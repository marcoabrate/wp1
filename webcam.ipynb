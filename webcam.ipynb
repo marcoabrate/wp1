{
 "cells": [
  {
   "cell_type": "code",
   "execution_count": 1,
   "id": "e223dd9e-ed9c-43e4-b79f-e3d325a309d4",
   "metadata": {},
   "outputs": [],
   "source": [
    "import numpy as np\n",
    "import cv2 as cv\n",
    "import time"
   ]
  },
  {
   "cell_type": "code",
   "execution_count": 2,
   "id": "676bc5c5-8e4d-499c-8f8b-bb469b59a447",
   "metadata": {},
   "outputs": [],
   "source": [
    "source = 0\n",
    "win_name = \"local contrast\"\n",
    "\n",
    "show_original = False"
   ]
  },
  {
   "cell_type": "code",
   "execution_count": 3,
   "id": "c649bb4a-c851-409b-be0e-087471c90cad",
   "metadata": {},
   "outputs": [
    {
     "name": "stderr",
     "output_type": "stream",
     "text": [
      "[ WARN:0@0.312] global /private/var/folders/nz/j6p8yfhx1mv_0grj5xl4650h0000gp/T/abs_562_cazh1h/croots/recipe/opencv-suite_1664548333142/work/modules/videoio/src/cap_gstreamer.cpp (862) isPipelinePlaying OpenCV | GStreamer warning: GStreamer: pipeline have not been created\n"
     ]
    }
   ],
   "source": [
    "cv.namedWindow(win_name)\n",
    "\n",
    "if show_original:\n",
    "    cv.namedWindow('original frame')\n",
    "\n",
    "cam = cv.VideoCapture(source)"
   ]
  },
  {
   "cell_type": "code",
   "execution_count": 4,
   "id": "22171f54-ba25-4774-ba14-4ff0b3ef3419",
   "metadata": {},
   "outputs": [],
   "source": [
    "_ret, prev_frame = cam.read()\n",
    "\n",
    "prev_frame_gray = cv.cvtColor(prev_frame, cv.COLOR_BGR2GRAY)\n",
    "\n",
    "timestep = 1\n",
    "\n",
    "avg_frame_sum = np.sum(prev_frame_gray) / (prev_frame_gray.shape[0]*prev_frame_gray.shape[1])"
   ]
  },
  {
   "cell_type": "code",
   "execution_count": 5,
   "id": "2a21b8e8-22c2-40cb-810a-77173411469a",
   "metadata": {},
   "outputs": [],
   "source": [
    "while _ret:\n",
    "    _ret, frame = cam.read()\n",
    "    \n",
    "    frame_gray = cv.cvtColor(frame, cv.COLOR_BGR2GRAY)\n",
    "    \n",
    "    timestep += 1\n",
    "    \n",
    "    avg_frame_sum += (np.sum(frame_gray) / (frame_gray.shape[0]*frame_gray.shape[1]))\n",
    "    avg_frame_spatemp = avg_frame_sum / timestep\n",
    "    \n",
    "    prev_frame_gray = frame_gray\n",
    "    \n",
    "    frame_local_contrast = (frame_gray - avg_frame_spatemp) / avg_frame_spatemp\n",
    "\n",
    "    cv.imshow(win_name, frame_local_contrast)\n",
    "    if show_original:\n",
    "        cv.imshow('original frame', frame_gray)\n",
    "\n",
    "    key = cv.waitKey(5)\n",
    "    if key == 27: # exit on ESC\n",
    "        break\n",
    "    if key == ord('1'):\n",
    "        show_original = not show_original\n",
    "        print('original frame visualization is', ['off', 'on'][show_hsv])"
   ]
  },
  {
   "cell_type": "code",
   "execution_count": 6,
   "id": "6f5b73aa-54d1-498b-8f30-f05271c23e04",
   "metadata": {},
   "outputs": [
    {
     "data": {
      "text/plain": [
       "-1"
      ]
     },
     "execution_count": 6,
     "metadata": {},
     "output_type": "execute_result"
    }
   ],
   "source": [
    "cv.destroyAllWindows()\n",
    "cv.waitKey(1)"
   ]
  },
  {
   "cell_type": "code",
   "execution_count": null,
   "id": "539532e6-3497-43ba-9ba2-79e98d41ef30",
   "metadata": {},
   "outputs": [],
   "source": []
  }
 ],
 "metadata": {
  "kernelspec": {
   "display_name": "Python 3 (ipykernel)",
   "language": "python",
   "name": "python3"
  },
  "language_info": {
   "codemirror_mode": {
    "name": "ipython",
    "version": 3
   },
   "file_extension": ".py",
   "mimetype": "text/x-python",
   "name": "python",
   "nbconvert_exporter": "python",
   "pygments_lexer": "ipython3",
   "version": "3.10.6"
  }
 },
 "nbformat": 4,
 "nbformat_minor": 5
}
