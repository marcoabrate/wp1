{
 "cells": [
  {
   "cell_type": "code",
   "execution_count": 1,
   "id": "2e994910-2f5d-4f05-bc7c-a855b9286c4c",
   "metadata": {},
   "outputs": [],
   "source": [
    "import pandas as pd\n",
    "import cv2\n",
    "import numpy as np\n",
    "import scipy\n",
    "import time\n",
    "\n",
    "import matplotlib.pyplot as plt\n",
    "from matplotlib import cm\n",
    "from matplotlib.ticker import LinearLocator\n",
    "%matplotlib inline\n",
    "\n",
    "source = 0\n",
    "deg_to_rad = np.pi/180\n",
    "spat_freq = 0.08"
   ]
  },
  {
   "cell_type": "code",
   "execution_count": 2,
   "id": "dd12e21a-b80c-4fe7-9e00-a5afcd38a4d5",
   "metadata": {},
   "outputs": [],
   "source": [
    "import os\n",
    "\n",
    "im_dim = 720\n",
    "video_dir = \"/home/marco/phd/wp1/venv_blender/render_center/\"\n",
    "\n",
    "files = sorted(\n",
    "    [os.path.join(video_dir, f) for f in os.listdir(video_dir) if os.path.isfile(os.path.join(video_dir, f))]\n",
    ")\n",
    "\n",
    "video = np.zeros((im_dim, im_dim, len(files)), dtype=np.uint8)\n",
    "\n",
    "for idx, f in enumerate(files):\n",
    "    im = cv2.imread(f, cv2.IMREAD_GRAYSCALE)\n",
    "    video[:,:,idx] = im"
   ]
  },
  {
   "cell_type": "code",
   "execution_count": 3,
   "id": "a8922178-472a-45db-8927-b164e0b0048e",
   "metadata": {},
   "outputs": [],
   "source": [
    "import re\n",
    "\n",
    "kernel_dir = \"/home/marco/phd/wp1/data_allen/gabor_filters_3d/\"\n",
    "\n",
    "files =\\\n",
    "    [os.path.join(kernel_dir, f) for f in os.listdir(kernel_dir) if os.path.isfile(os.path.join(kernel_dir, f))]\n",
    "\n",
    "gs = {}\n",
    "\n",
    "for f in files:\n",
    "    n=re.findall(r'\\d+', f)[-1]\n",
    "    gs[f\"k{n}\"] = scipy.io.loadmat(f)[f\"k{n}\"]"
   ]
  },
  {
   "cell_type": "code",
   "execution_count": 4,
   "id": "a85e20cb-b667-4317-9a6b-af6869674677",
   "metadata": {},
   "outputs": [],
   "source": [
    "video_short = video[:,:,:100]"
   ]
  },
  {
   "cell_type": "code",
   "execution_count": 5,
   "id": "c8438f90-ab7e-4276-b4d7-5712be9d35b1",
   "metadata": {},
   "outputs": [
    {
     "data": {
      "text/plain": [
       "(720, 720, 100)"
      ]
     },
     "execution_count": 5,
     "metadata": {},
     "output_type": "execute_result"
    }
   ],
   "source": [
    "video_short.shape"
   ]
  },
  {
   "cell_type": "code",
   "execution_count": 7,
   "id": "8f6f7cda-8d17-41b4-aaaf-0f817ecb30cd",
   "metadata": {},
   "outputs": [],
   "source": [
    "video_conv = scipy.signal.fftconvolve(\n",
    "    video_short,\n",
    "    gs[\"k1\"],\n",
    "    mode='same',\n",
    ")\n",
    "\n",
    "video_conv = video_conv - np.min(video_conv)\n",
    "video_conv = np.divide(video_conv, np.max(video_conv))"
   ]
  },
  {
   "cell_type": "code",
   "execution_count": 20,
   "id": "481327a2-5955-40d0-853a-4dbbb33505b6",
   "metadata": {},
   "outputs": [],
   "source": [
    "video_conv_ml = scipy.io.loadmat(\"/home/marco/phd/wp1/video_conv/video_conv_norm1.mat\")[\"video_conv_norm\"]"
   ]
  },
  {
   "cell_type": "code",
   "execution_count": 21,
   "id": "ceceebad-485b-4984-a36e-b8d2c964cf0a",
   "metadata": {},
   "outputs": [
    {
     "data": {
      "text/plain": [
       "((720, 720, 100), (720, 720, 100))"
      ]
     },
     "execution_count": 21,
     "metadata": {},
     "output_type": "execute_result"
    }
   ],
   "source": [
    "video_conv.shape, video_conv_ml.shape"
   ]
  },
  {
   "cell_type": "code",
   "execution_count": 27,
   "id": "59aa4646-b0ce-407f-95d3-ad7ba17673a6",
   "metadata": {},
   "outputs": [],
   "source": [
    "err_mask = np.logical_not(np.isclose(video_conv, video_conv_ml))"
   ]
  },
  {
   "cell_type": "code",
   "execution_count": 28,
   "id": "b7273bc8-0542-47d9-ba84-a5dba222731e",
   "metadata": {},
   "outputs": [],
   "source": [
    "err = np.abs(video_conv[err_mask] - video_conv_ml[err_mask])"
   ]
  },
  {
   "cell_type": "code",
   "execution_count": 32,
   "id": "b88affdf-64dd-45be-a3d8-fbb9bcab07e5",
   "metadata": {},
   "outputs": [
    {
     "data": {
      "text/plain": [
       "0.8488366011503384"
      ]
     },
     "execution_count": 32,
     "metadata": {},
     "output_type": "execute_result"
    }
   ],
   "source": [
    "np.sum(err) / (video_conv.shape[0]*video_conv.shape[1]*video_conv.shape[2])*100"
   ]
  },
  {
   "cell_type": "code",
   "execution_count": 29,
   "id": "422364a2-f21e-4f0c-a7b3-4fa2166ad9ea",
   "metadata": {},
   "outputs": [
    {
     "data": {
      "text/plain": [
       "0.008495032252090093"
      ]
     },
     "execution_count": 29,
     "metadata": {},
     "output_type": "execute_result"
    }
   ],
   "source": [
    "np.mean(err)"
   ]
  },
  {
   "cell_type": "code",
   "execution_count": 30,
   "id": "46746323-0381-42ee-aed5-a0d948071c5b",
   "metadata": {},
   "outputs": [
    {
     "data": {
      "text/plain": [
       "0.060485799080101765"
      ]
     },
     "execution_count": 30,
     "metadata": {},
     "output_type": "execute_result"
    }
   ],
   "source": [
    "np.max(err)"
   ]
  },
  {
   "cell_type": "code",
   "execution_count": null,
   "id": "e342bfec-4a74-490d-ad38-d67879cda370",
   "metadata": {},
   "outputs": [],
   "source": []
  }
 ],
 "metadata": {
  "kernelspec": {
   "display_name": "Python 3 (ipykernel)",
   "language": "python",
   "name": "python3"
  },
  "language_info": {
   "codemirror_mode": {
    "name": "ipython",
    "version": 3
   },
   "file_extension": ".py",
   "mimetype": "text/x-python",
   "name": "python",
   "nbconvert_exporter": "python",
   "pygments_lexer": "ipython3",
   "version": "3.10.6"
  }
 },
 "nbformat": 4,
 "nbformat_minor": 5
}
