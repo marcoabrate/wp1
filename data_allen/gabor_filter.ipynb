{
 "cells": [
  {
   "cell_type": "code",
   "execution_count": 1,
   "id": "2e994910-2f5d-4f05-bc7c-a855b9286c4c",
   "metadata": {},
   "outputs": [],
   "source": [
    "import pandas as pd\n",
    "import cv2\n",
    "import numpy as np\n",
    "\n",
    "import matplotlib.pyplot as plt\n",
    "\n",
    "deg_to_rad = np.pi/180"
   ]
  },
  {
   "cell_type": "code",
   "execution_count": 2,
   "id": "dd12e21a-b80c-4fe7-9e00-a5afcd38a4d5",
   "metadata": {},
   "outputs": [],
   "source": [
    "df = pd.read_csv(\"cell_metrics_VISp.csv\")"
   ]
  },
  {
   "cell_type": "code",
   "execution_count": 3,
   "id": "dae77906-8c0c-4bb6-916f-c2a343c37b82",
   "metadata": {},
   "outputs": [],
   "source": [
    "id_cols = [\n",
    "    \"experiment_container_id\", \"cell_specimen_id\"\n",
    "]\n",
    "\n",
    "sg_cols = [\n",
    "    \"pref_ori_sg\", \"pref_sf_sg\", \"pref_phase_sg\"\n",
    "]\n",
    "\n",
    "dg_cols = [\n",
    "    \"pref_dir_dg\", \"pref_tf_dg\"\n",
    "]"
   ]
  },
  {
   "cell_type": "code",
   "execution_count": 4,
   "id": "53db4540-b8b5-44ec-a476-dd52cec2436c",
   "metadata": {},
   "outputs": [
    {
     "data": {
      "text/plain": [
       "63251"
      ]
     },
     "execution_count": 4,
     "metadata": {},
     "output_type": "execute_result"
    }
   ],
   "source": [
    "df = df[df[\"failed_experiment_container\"]==\"f\"]\n",
    "len(df)"
   ]
  },
  {
   "cell_type": "markdown",
   "id": "9cfd4b5e-85d0-4eff-b49f-6726ca103208",
   "metadata": {},
   "source": [
    "### Sample Static Filters"
   ]
  },
  {
   "cell_type": "code",
   "execution_count": 5,
   "id": "5f4c7072-7a19-4f22-9f14-3c9440245454",
   "metadata": {},
   "outputs": [
    {
     "data": {
      "text/plain": [
       "30997"
      ]
     },
     "execution_count": 5,
     "metadata": {},
     "output_type": "execute_result"
    }
   ],
   "source": [
    "df_sg = df[id_cols+sg_cols].dropna()\n",
    "\n",
    "len(df_sg)"
   ]
  },
  {
   "cell_type": "code",
   "execution_count": 6,
   "id": "b3626f0b-0b8f-4046-896c-525c1ea28644",
   "metadata": {},
   "outputs": [
    {
     "data": {
      "text/html": [
       "<div>\n",
       "<style scoped>\n",
       "    .dataframe tbody tr th:only-of-type {\n",
       "        vertical-align: middle;\n",
       "    }\n",
       "\n",
       "    .dataframe tbody tr th {\n",
       "        vertical-align: top;\n",
       "    }\n",
       "\n",
       "    .dataframe thead th {\n",
       "        text-align: right;\n",
       "    }\n",
       "</style>\n",
       "<table border=\"1\" class=\"dataframe\">\n",
       "  <thead>\n",
       "    <tr style=\"text-align: right;\">\n",
       "      <th></th>\n",
       "      <th>experiment_container_id</th>\n",
       "      <th>cell_specimen_id</th>\n",
       "      <th>pref_ori_sg</th>\n",
       "      <th>pref_sf_sg</th>\n",
       "      <th>pref_phase_sg</th>\n",
       "    </tr>\n",
       "  </thead>\n",
       "  <tbody>\n",
       "    <tr>\n",
       "      <th>6</th>\n",
       "      <td>511498742</td>\n",
       "      <td>517397361</td>\n",
       "      <td>150.0</td>\n",
       "      <td>0.08</td>\n",
       "      <td>0.50</td>\n",
       "    </tr>\n",
       "    <tr>\n",
       "      <th>8</th>\n",
       "      <td>511498742</td>\n",
       "      <td>517397369</td>\n",
       "      <td>30.0</td>\n",
       "      <td>0.08</td>\n",
       "      <td>0.00</td>\n",
       "    </tr>\n",
       "    <tr>\n",
       "      <th>10</th>\n",
       "      <td>511498742</td>\n",
       "      <td>517397377</td>\n",
       "      <td>30.0</td>\n",
       "      <td>0.08</td>\n",
       "      <td>0.00</td>\n",
       "    </tr>\n",
       "    <tr>\n",
       "      <th>11</th>\n",
       "      <td>511498742</td>\n",
       "      <td>517397381</td>\n",
       "      <td>120.0</td>\n",
       "      <td>0.32</td>\n",
       "      <td>0.25</td>\n",
       "    </tr>\n",
       "    <tr>\n",
       "      <th>12</th>\n",
       "      <td>511498742</td>\n",
       "      <td>517397385</td>\n",
       "      <td>90.0</td>\n",
       "      <td>0.02</td>\n",
       "      <td>0.25</td>\n",
       "    </tr>\n",
       "    <tr>\n",
       "      <th>...</th>\n",
       "      <td>...</td>\n",
       "      <td>...</td>\n",
       "      <td>...</td>\n",
       "      <td>...</td>\n",
       "      <td>...</td>\n",
       "    </tr>\n",
       "    <tr>\n",
       "      <th>63239</th>\n",
       "      <td>712178509</td>\n",
       "      <td>738948929</td>\n",
       "      <td>60.0</td>\n",
       "      <td>0.04</td>\n",
       "      <td>0.25</td>\n",
       "    </tr>\n",
       "    <tr>\n",
       "      <th>63240</th>\n",
       "      <td>712178509</td>\n",
       "      <td>738949054</td>\n",
       "      <td>30.0</td>\n",
       "      <td>0.16</td>\n",
       "      <td>0.25</td>\n",
       "    </tr>\n",
       "    <tr>\n",
       "      <th>63242</th>\n",
       "      <td>712178509</td>\n",
       "      <td>738949127</td>\n",
       "      <td>150.0</td>\n",
       "      <td>0.08</td>\n",
       "      <td>0.75</td>\n",
       "    </tr>\n",
       "    <tr>\n",
       "      <th>63245</th>\n",
       "      <td>712178509</td>\n",
       "      <td>738949207</td>\n",
       "      <td>60.0</td>\n",
       "      <td>0.04</td>\n",
       "      <td>0.75</td>\n",
       "    </tr>\n",
       "    <tr>\n",
       "      <th>63250</th>\n",
       "      <td>667772494</td>\n",
       "      <td>743827845</td>\n",
       "      <td>0.0</td>\n",
       "      <td>0.02</td>\n",
       "      <td>0.00</td>\n",
       "    </tr>\n",
       "  </tbody>\n",
       "</table>\n",
       "<p>30997 rows × 5 columns</p>\n",
       "</div>"
      ],
      "text/plain": [
       "       experiment_container_id  cell_specimen_id  pref_ori_sg  pref_sf_sg  \\\n",
       "6                    511498742         517397361        150.0        0.08   \n",
       "8                    511498742         517397369         30.0        0.08   \n",
       "10                   511498742         517397377         30.0        0.08   \n",
       "11                   511498742         517397381        120.0        0.32   \n",
       "12                   511498742         517397385         90.0        0.02   \n",
       "...                        ...               ...          ...         ...   \n",
       "63239                712178509         738948929         60.0        0.04   \n",
       "63240                712178509         738949054         30.0        0.16   \n",
       "63242                712178509         738949127        150.0        0.08   \n",
       "63245                712178509         738949207         60.0        0.04   \n",
       "63250                667772494         743827845          0.0        0.02   \n",
       "\n",
       "       pref_phase_sg  \n",
       "6               0.50  \n",
       "8               0.00  \n",
       "10              0.00  \n",
       "11              0.25  \n",
       "12              0.25  \n",
       "...              ...  \n",
       "63239           0.25  \n",
       "63240           0.25  \n",
       "63242           0.75  \n",
       "63245           0.75  \n",
       "63250           0.00  \n",
       "\n",
       "[30997 rows x 5 columns]"
      ]
     },
     "execution_count": 6,
     "metadata": {},
     "output_type": "execute_result"
    }
   ],
   "source": [
    "df_sg"
   ]
  },
  {
   "cell_type": "code",
   "execution_count": 7,
   "id": "fc50ffa2-c398-45e6-9ccc-212d6dfaa1ce",
   "metadata": {},
   "outputs": [
    {
     "data": {
      "image/png": "[encoded data removed]",
      "text/plain": [
       "<Figure size 720x504 with 1 Axes>"
      ]
     },
     "metadata": {
      "needs_background": "light"
     },
     "output_type": "display_data"
    }
   ],
   "source": [
    "ori = 60\n",
    "sf = 0.04\n",
    "phase = 0.25\n",
    "\n",
    "g = cv2.getGaborKernel(\n",
    "    ksize=(80,80),\n",
    "    sigma=50,\n",
    "    theta=ori*deg_to_rad,\n",
    "    lambd=1/sf,\n",
    "    gamma=1,\n",
    "    psi=phase*2*np.pi, \n",
    ")\n",
    "\n",
    "plt.figure(figsize=(10, 7))\n",
    "plt.imshow(g, cmap='Greys')\n",
    "plt.show()"
   ]
  },
  {
   "cell_type": "markdown",
   "id": "7384c233-3d7a-4e31-bf48-b38424285ce7",
   "metadata": {},
   "source": [
    "### Sample Dynamic Filters"
   ]
  },
  {
   "cell_type": "code",
   "execution_count": 8,
   "id": "ac2be3f3-3d8a-46c5-b0dc-f32a38338237",
   "metadata": {},
   "outputs": [
    {
     "data": {
      "text/plain": [
       "29635"
      ]
     },
     "execution_count": 8,
     "metadata": {},
     "output_type": "execute_result"
    }
   ],
   "source": [
    "df_dg = df[id_cols+dg_cols].dropna()\n",
    "\n",
    "len(df_dg)"
   ]
  },
  {
   "cell_type": "code",
   "execution_count": 9,
   "id": "ca8dc89f-62f3-49f6-bc2c-2b966f190138",
   "metadata": {},
   "outputs": [],
   "source": [
    "frames_per_s = 60"
   ]
  },
  {
   "cell_type": "code",
   "execution_count": 10,
   "id": "9a168944-e32f-469a-854b-2349c57bbc72",
   "metadata": {},
   "outputs": [],
   "source": [
    "spat_freq = 0.08\n",
    "temp_freq = 4\n",
    "orientation = 0 # true values are 0, 45, 90, 135, 180, 225, 270, 315"
   ]
  },
  {
   "cell_type": "code",
   "execution_count": 11,
   "id": "4de9b7b4-a93b-4737-bb1a-310b28fc70db",
   "metadata": {},
   "outputs": [],
   "source": [
    "gs = [\n",
    "    cv2.getGaborKernel(\n",
    "        ksize=(80,80),\n",
    "        sigma=40,\n",
    "        theta=orientation*deg_to_rad,\n",
    "        lambd=1/spat_freq,\n",
    "        gamma=1,\n",
    "        psi=i*2*np.pi,\n",
    "    )\n",
    "    for i in np.linspace(0, 1, int(frames_per_s/temp_freq))\n",
    "]"
   ]
  },
  {
   "cell_type": "code",
   "execution_count": null,
   "id": "7e046ba0-9d2d-4737-a026-7437c8f973ac",
   "metadata": {},
   "outputs": [],
   "source": []
  },
  {
   "cell_type": "code",
   "execution_count": null,
   "id": "5ac7e63d-6420-46b4-bcc7-65b2c22f36d9",
   "metadata": {},
   "outputs": [],
   "source": []
  },
  {
   "cell_type": "code",
   "execution_count": null,
   "id": "b99fb8ef-ae9c-47a3-83ff-81e023cf16ae",
   "metadata": {},
   "outputs": [],
   "source": []
  }
 ],
 "metadata": {
  "kernelspec": {
   "display_name": "Python 3",
   "language": "python",
   "name": "python3"
  },
  "language_info": {
   "codemirror_mode": {
    "name": "ipython",
    "version": 3
   },
   "file_extension": ".py",
   "mimetype": "text/x-python",
   "name": "python",
   "nbconvert_exporter": "python",
   "pygments_lexer": "ipython3",
   "version": "3.8.15"
  }
 },
 "nbformat": 4,
 "nbformat_minor": 5
}
