{
 "cells": [
  {
   "cell_type": "markdown",
   "id": "f6331328-de6f-4c84-bd64-00fd244fc7d8",
   "metadata": {},
   "source": [
    "### Primary Visual Area (VISp)"
   ]
  },
  {
   "cell_type": "code",
   "execution_count": 1,
   "id": "2e994910-2f5d-4f05-bc7c-a855b9286c4c",
   "metadata": {},
   "outputs": [],
   "source": [
    "import pandas as pd"
   ]
  },
  {
   "cell_type": "code",
   "execution_count": 2,
   "id": "dd12e21a-b80c-4fe7-9e00-a5afcd38a4d5",
   "metadata": {},
   "outputs": [],
   "source": [
    "df = pd.read_csv(\"cell_metrics_VISp.csv\")"
   ]
  },
  {
   "cell_type": "code",
   "execution_count": 3,
   "id": "88fd290f-119d-4391-ab4a-78466df61b44",
   "metadata": {},
   "outputs": [
    {
     "data": {
      "text/plain": [
       "['all_stim',\n",
       " 'area',\n",
       " 'cell_specimen_id',\n",
       " 'donor_full_genotype',\n",
       " 'drifting_grating_large',\n",
       " 'drifting_grating_small',\n",
       " 'dsi_dg',\n",
       " 'experiment_container_id',\n",
       " 'failed_experiment_container',\n",
       " 'g_dsi_dg',\n",
       " 'g_osi_dg',\n",
       " 'g_osi_sg',\n",
       " 'image_sel_ns',\n",
       " 'imaging_depth',\n",
       " 'locally_sparse_noise_off_large',\n",
       " 'locally_sparse_noise_off_small',\n",
       " 'locally_sparse_noise_on_large',\n",
       " 'locally_sparse_noise_on_small',\n",
       " 'natural_movie_one_a_large',\n",
       " 'natural_movie_one_a_small',\n",
       " 'natural_movie_one_b_large',\n",
       " 'natural_movie_one_b_small',\n",
       " 'natural_movie_one_c_large',\n",
       " 'natural_movie_one_c_small',\n",
       " 'natural_movie_three_large',\n",
       " 'natural_movie_three_small',\n",
       " 'natural_movie_two_large',\n",
       " 'natural_movie_two_small',\n",
       " 'natural_scene_large',\n",
       " 'natural_scene_small',\n",
       " 'osi_dg',\n",
       " 'osi_sg',\n",
       " 'p_dg',\n",
       " 'p_ns',\n",
       " 'p_run_mod_dg',\n",
       " 'p_run_mod_ns',\n",
       " 'p_run_mod_sg',\n",
       " 'p_sg',\n",
       " 'peak_dff_dg',\n",
       " 'peak_dff_ns',\n",
       " 'peak_dff_sg',\n",
       " 'pref_dir_dg',\n",
       " 'pref_image_ns',\n",
       " 'pref_ori_sg',\n",
       " 'pref_phase_sg',\n",
       " 'pref_sf_sg',\n",
       " 'pref_tf_dg',\n",
       " 'receptive_field_off_large',\n",
       " 'receptive_field_off_small',\n",
       " 'receptive_field_on_large',\n",
       " 'receptive_field_on_small',\n",
       " 'reliability_dg',\n",
       " 'reliability_nm1_a',\n",
       " 'reliability_nm1_b',\n",
       " 'reliability_nm1_c',\n",
       " 'reliability_nm2',\n",
       " 'reliability_nm3',\n",
       " 'reliability_ns',\n",
       " 'reliability_sg',\n",
       " 'rf_area_off_lsn',\n",
       " 'rf_area_on_lsn',\n",
       " 'rf_center_off_x_lsn',\n",
       " 'rf_center_off_y_lsn',\n",
       " 'rf_center_on_x_lsn',\n",
       " 'rf_center_on_y_lsn',\n",
       " 'rf_chi2_lsn',\n",
       " 'rf_distance_lsn',\n",
       " 'rf_overlap_index_lsn',\n",
       " 'run_mod_dg',\n",
       " 'run_mod_ns',\n",
       " 'run_mod_sg',\n",
       " 'sfdi_sg',\n",
       " 'signal_correlation_a_large',\n",
       " 'signal_correlation_a_small',\n",
       " 'signal_correlation_b_large',\n",
       " 'signal_correlation_b_small',\n",
       " 'specimen_id',\n",
       " 'speed_tuning_a_large',\n",
       " 'speed_tuning_a_small',\n",
       " 'speed_tuning_b_large',\n",
       " 'speed_tuning_b_small',\n",
       " 'speed_tuning_c_large',\n",
       " 'speed_tuning_c_small',\n",
       " 'static_gratings_large',\n",
       " 'static_gratings_small',\n",
       " 'tfdi_dg',\n",
       " 'time_to_peak_ns',\n",
       " 'time_to_peak_sg',\n",
       " 'tld1_id',\n",
       " 'tld1_name',\n",
       " 'tld2_id',\n",
       " 'tld2_name',\n",
       " 'tlr1_id',\n",
       " 'tlr1_name']"
      ]
     },
     "execution_count": 3,
     "metadata": {},
     "output_type": "execute_result"
    }
   ],
   "source": [
    "sorted(list(df.columns))"
   ]
  },
  {
   "cell_type": "markdown",
   "id": "5521ac7c-d9bd-4645-86ba-f79bd287be37",
   "metadata": {},
   "source": [
    "\"osi_dg\", \"osi_sg\"\n",
    "$$\n",
    "OSI = \\frac{R_{pref} - R_{orth}}{R_{pref} + R_{orth}}\n",
    "$$\n",
    "\n",
    "\"dsi_dg\"\n",
    "$$\n",
    "DSI = \\frac{R_{pref} - R_{null}}{R_{pref} + R_{null}}\n",
    "$$\n",
    "\n",
    "Preferred:\n",
    "- \"pref_dir_dg\": preferred direction dynamic gratings [degrees]\n",
    "- \"pref_tf_dg\": preferred temporal frequency dynamic gratings [Hz]\n",
    "- \"pref_ori_sg\": preferred orientation static gratings [degrees]\n",
    "- \"pref_sf_sg\": preferred spatial frequency static gratings [cycles/degree]\n",
    "- \"pref_phase_sg\": preferred phase static gratings\n",
    "\n",
    "More useful columns:\n",
    "- \"failed_experiment_container\": we want this to False"
   ]
  },
  {
   "cell_type": "code",
   "execution_count": 4,
   "id": "dae77906-8c0c-4bb6-916f-c2a343c37b82",
   "metadata": {},
   "outputs": [],
   "source": [
    "preferred_cols = [\n",
    "    \"cell_specimen_id\", \"osi_dg\", \"osi_sg\", \"dsi_dg\",\n",
    "    \"pref_dir_dg\", \"pref_tf_dg\", \"pref_ori_sg\", \"pref_sf_sg\", \"pref_phase_sg\"\n",
    "]"
   ]
  },
  {
   "cell_type": "code",
   "execution_count": 5,
   "id": "f9d0030b-7852-4d4a-b72a-7de8518877b5",
   "metadata": {},
   "outputs": [
    {
     "data": {
      "text/html": [
       "<div>\n",
       "<style scoped>\n",
       "    .dataframe tbody tr th:only-of-type {\n",
       "        vertical-align: middle;\n",
       "    }\n",
       "\n",
       "    .dataframe tbody tr th {\n",
       "        vertical-align: top;\n",
       "    }\n",
       "\n",
       "    .dataframe thead th {\n",
       "        text-align: right;\n",
       "    }\n",
       "</style>\n",
       "<table border=\"1\" class=\"dataframe\">\n",
       "  <thead>\n",
       "    <tr style=\"text-align: right;\">\n",
       "      <th></th>\n",
       "      <th>cell_specimen_id</th>\n",
       "      <th>osi_dg</th>\n",
       "      <th>osi_sg</th>\n",
       "      <th>dsi_dg</th>\n",
       "      <th>pref_dir_dg</th>\n",
       "      <th>pref_tf_dg</th>\n",
       "      <th>pref_ori_sg</th>\n",
       "      <th>pref_sf_sg</th>\n",
       "      <th>pref_phase_sg</th>\n",
       "    </tr>\n",
       "  </thead>\n",
       "  <tbody>\n",
       "    <tr>\n",
       "      <th>14421</th>\n",
       "      <td>541511982</td>\n",
       "      <td>1.299244</td>\n",
       "      <td>1.270104</td>\n",
       "      <td>0.316621</td>\n",
       "      <td>180.0</td>\n",
       "      <td>1.0</td>\n",
       "      <td>30.0</td>\n",
       "      <td>0.04</td>\n",
       "      <td>0.5</td>\n",
       "    </tr>\n",
       "  </tbody>\n",
       "</table>\n",
       "</div>"
      ],
      "text/plain": [
       "       cell_specimen_id    osi_dg    osi_sg    dsi_dg  pref_dir_dg  \\\n",
       "14421         541511982  1.299244  1.270104  0.316621        180.0   \n",
       "\n",
       "       pref_tf_dg  pref_ori_sg  pref_sf_sg  pref_phase_sg  \n",
       "14421         1.0         30.0        0.04            0.5  "
      ]
     },
     "execution_count": 5,
     "metadata": {},
     "output_type": "execute_result"
    }
   ],
   "source": [
    "df[df[\"cell_specimen_id\"]==541511982][preferred_cols]"
   ]
  },
  {
   "cell_type": "code",
   "execution_count": 6,
   "id": "aac4aef3-3cb6-42e9-9f1e-b4669a4d5b01",
   "metadata": {},
   "outputs": [
    {
     "data": {
      "text/html": [
       "<div>\n",
       "<style scoped>\n",
       "    .dataframe tbody tr th:only-of-type {\n",
       "        vertical-align: middle;\n",
       "    }\n",
       "\n",
       "    .dataframe tbody tr th {\n",
       "        vertical-align: top;\n",
       "    }\n",
       "\n",
       "    .dataframe thead th {\n",
       "        text-align: right;\n",
       "    }\n",
       "</style>\n",
       "<table border=\"1\" class=\"dataframe\">\n",
       "  <thead>\n",
       "    <tr style=\"text-align: right;\">\n",
       "      <th></th>\n",
       "      <th>cell_specimen_id</th>\n",
       "      <th>osi_dg</th>\n",
       "      <th>osi_sg</th>\n",
       "      <th>dsi_dg</th>\n",
       "      <th>pref_dir_dg</th>\n",
       "      <th>pref_tf_dg</th>\n",
       "      <th>pref_ori_sg</th>\n",
       "      <th>pref_sf_sg</th>\n",
       "      <th>pref_phase_sg</th>\n",
       "    </tr>\n",
       "  </thead>\n",
       "  <tbody>\n",
       "    <tr>\n",
       "      <th>14619</th>\n",
       "      <td>541513580</td>\n",
       "      <td>1.055554</td>\n",
       "      <td>1.075116</td>\n",
       "      <td>0.111651</td>\n",
       "      <td>225.0</td>\n",
       "      <td>2.0</td>\n",
       "      <td>60.0</td>\n",
       "      <td>0.04</td>\n",
       "      <td>0.25</td>\n",
       "    </tr>\n",
       "  </tbody>\n",
       "</table>\n",
       "</div>"
      ],
      "text/plain": [
       "       cell_specimen_id    osi_dg    osi_sg    dsi_dg  pref_dir_dg  \\\n",
       "14619         541513580  1.055554  1.075116  0.111651        225.0   \n",
       "\n",
       "       pref_tf_dg  pref_ori_sg  pref_sf_sg  pref_phase_sg  \n",
       "14619         2.0         60.0        0.04           0.25  "
      ]
     },
     "execution_count": 6,
     "metadata": {},
     "output_type": "execute_result"
    }
   ],
   "source": [
    "df[df[\"cell_specimen_id\"]==541513580][preferred_cols]"
   ]
  },
  {
   "cell_type": "code",
   "execution_count": 7,
   "id": "82bfb44e-01c0-42e5-ac98-b7892ea7f583",
   "metadata": {},
   "outputs": [
    {
     "data": {
      "text/plain": [
       "63251"
      ]
     },
     "execution_count": 7,
     "metadata": {},
     "output_type": "execute_result"
    }
   ],
   "source": [
    "len(df)"
   ]
  },
  {
   "cell_type": "code",
   "execution_count": 8,
   "id": "5f4c7072-7a19-4f22-9f14-3c9440245454",
   "metadata": {},
   "outputs": [
    {
     "data": {
      "text/plain": [
       "14481"
      ]
     },
     "execution_count": 8,
     "metadata": {},
     "output_type": "execute_result"
    }
   ],
   "source": [
    "df_dropna = df[preferred_cols].dropna()\n",
    "\n",
    "len(df_dropna)"
   ]
  },
  {
   "cell_type": "code",
   "execution_count": 9,
   "id": "87a6a5b9-b4a0-426f-94bc-8d7716cbaa88",
   "metadata": {},
   "outputs": [
    {
     "data": {
      "text/plain": [
       "count    30997.000000\n",
       "mean         0.387602\n",
       "std          0.276664\n",
       "min          0.000000\n",
       "25%          0.250000\n",
       "50%          0.500000\n",
       "75%          0.750000\n",
       "max          0.750000\n",
       "Name: pref_phase_sg, dtype: float64"
      ]
     },
     "execution_count": 9,
     "metadata": {},
     "output_type": "execute_result"
    }
   ],
   "source": [
    "df[\"pref_phase_sg\"].describe()"
   ]
  },
  {
   "cell_type": "code",
   "execution_count": null,
   "id": "731f92e4-ed36-44fa-8650-33c703f3d840",
   "metadata": {},
   "outputs": [],
   "source": []
  }
 ],
 "metadata": {
  "kernelspec": {
   "display_name": "Python 3",
   "language": "python",
   "name": "python3"
  },
  "language_info": {
   "codemirror_mode": {
    "name": "ipython",
    "version": 3
   },
   "file_extension": ".py",
   "mimetype": "text/x-python",
   "name": "python",
   "nbconvert_exporter": "python",
   "pygments_lexer": "ipython3",
   "version": "3.8.15"
  }
 },
 "nbformat": 4,
 "nbformat_minor": 5
}
