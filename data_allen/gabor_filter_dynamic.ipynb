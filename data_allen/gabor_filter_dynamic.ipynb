{
 "cells": [
  {
   "cell_type": "code",
   "execution_count": 26,
   "id": "2e994910-2f5d-4f05-bc7c-a855b9286c4c",
   "metadata": {},
   "outputs": [],
   "source": [
    "import pandas as pd\n",
    "import cv2\n",
    "import numpy as np\n",
    "import scipy\n",
    "import time\n",
    "\n",
    "import matplotlib.pyplot as plt\n",
    "%matplotlib inline\n",
    "\n",
    "source = 0\n",
    "deg_to_rad = np.pi/180\n",
    "spat_freq = 0.08"
   ]
  },
  {
   "cell_type": "code",
   "execution_count": 27,
   "id": "dd12e21a-b80c-4fe7-9e00-a5afcd38a4d5",
   "metadata": {},
   "outputs": [],
   "source": [
    "df = pd.read_csv(\"cell_metrics_VISp.csv\")"
   ]
  },
  {
   "cell_type": "code",
   "execution_count": 28,
   "id": "dae77906-8c0c-4bb6-916f-c2a343c37b82",
   "metadata": {},
   "outputs": [],
   "source": [
    "id_cols = [\n",
    "    \"experiment_container_id\", \"cell_specimen_id\"\n",
    "]\n",
    "\n",
    "sg_cols = [\n",
    "    \"pref_ori_sg\", \"pref_sf_sg\", \"pref_phase_sg\"\n",
    "]\n",
    "\n",
    "dg_cols = [\n",
    "    \"pref_dir_dg\", \"pref_tf_dg\"\n",
    "]"
   ]
  },
  {
   "cell_type": "code",
   "execution_count": 29,
   "id": "53db4540-b8b5-44ec-a476-dd52cec2436c",
   "metadata": {},
   "outputs": [
    {
     "data": {
      "text/plain": [
       "63251"
      ]
     },
     "execution_count": 29,
     "metadata": {},
     "output_type": "execute_result"
    }
   ],
   "source": [
    "df = df[df[\"failed_experiment_container\"]==\"f\"]\n",
    "len(df)"
   ]
  },
  {
   "cell_type": "markdown",
   "id": "b697badf-8a7e-4b5d-a832-4a08a1f30e75",
   "metadata": {},
   "source": [
    "### Video Capturing"
   ]
  },
  {
   "cell_type": "code",
   "execution_count": 30,
   "id": "bbeea930-534f-4093-a98d-92d1ea2f3256",
   "metadata": {},
   "outputs": [],
   "source": [
    "window_webcam = \"Webcam\"\n",
    "cv2.namedWindow(window_webcam, cv2.WINDOW_NORMAL)\n",
    "\n",
    "cam = cv2.VideoCapture(source)"
   ]
  },
  {
   "cell_type": "code",
   "execution_count": 31,
   "id": "12564842-4844-44a4-87af-208759135fec",
   "metadata": {},
   "outputs": [],
   "source": [
    "dts = []\n",
    "video = []\n",
    "T = 10\n",
    "\n",
    "while sum(dts) < T:\n",
    "    start = time.time()\n",
    "    \n",
    "    _ret, frame = cam.read()\n",
    "    \n",
    "    frame_gray = cv2.cvtColor(frame, cv2.COLOR_BGR2GRAY)\n",
    "    frame_gray = cv2.resize(frame_gray, dsize=None, fx=.5, fy=.5)\n",
    "    frame_gray = cv2.flip(frame_gray, 1)\n",
    "    frame_gray_mean = frame_gray.mean()\n",
    "    frame_gray = (frame_gray - frame_gray_mean) / frame_gray_mean\n",
    "\n",
    "    cv2.imshow(window_webcam, frame_gray)\n",
    "    \n",
    "    frame_gray_norm = (frame_gray - frame_gray.min()) / (frame_gray.max() - frame_gray.min())\n",
    "    \n",
    "    video.append(frame_gray_norm)\n",
    "    \n",
    "    key = cv2.waitKey(5)\n",
    "    if key == 27: # exit on ESC\n",
    "        break\n",
    "        \n",
    "    end = time.time()\n",
    "    dt = end-start\n",
    "    dts.append(dt)"
   ]
  },
  {
   "cell_type": "code",
   "execution_count": 32,
   "id": "72c74918-684c-469f-b7e3-d08f404798d9",
   "metadata": {},
   "outputs": [
    {
     "data": {
      "text/plain": [
       "-1"
      ]
     },
     "execution_count": 32,
     "metadata": {},
     "output_type": "execute_result"
    }
   ],
   "source": [
    "cv2.destroyAllWindows()\n",
    "cv2.waitKey(1)"
   ]
  },
  {
   "cell_type": "code",
   "execution_count": 33,
   "id": "97f28fa0-2f70-44ef-8b86-0692acb6247a",
   "metadata": {},
   "outputs": [
    {
     "name": "stdout",
     "output_type": "stream",
     "text": [
      "Video shape: (360, 640, 281)\n",
      "FPS: 29.0\n"
     ]
    }
   ],
   "source": [
    "video = np.moveaxis(np.array(video, dtype=np.float16), 0, -1)\n",
    "\n",
    "frames_per_s = np.ceil(video.shape[-1] / sum(dts))\n",
    "print(f\"Video shape: {video.shape}\")\n",
    "print(f\"FPS: {frames_per_s}\")"
   ]
  },
  {
   "cell_type": "markdown",
   "id": "7384c233-3d7a-4e31-bf48-b38424285ce7",
   "metadata": {},
   "source": [
    "### Sample Dynamic Filters"
   ]
  },
  {
   "cell_type": "code",
   "execution_count": 34,
   "id": "ac2be3f3-3d8a-46c5-b0dc-f32a38338237",
   "metadata": {},
   "outputs": [
    {
     "data": {
      "text/plain": [
       "29635"
      ]
     },
     "execution_count": 34,
     "metadata": {},
     "output_type": "execute_result"
    }
   ],
   "source": [
    "df_dg = df[id_cols+dg_cols].dropna()\n",
    "\n",
    "len(df_dg)"
   ]
  },
  {
   "cell_type": "code",
   "execution_count": 35,
   "id": "4b78b228-e62f-4d25-bd06-049914f6f6f8",
   "metadata": {},
   "outputs": [
    {
     "data": {
      "text/html": [
       "<div>\n",
       "<style scoped>\n",
       "    .dataframe tbody tr th:only-of-type {\n",
       "        vertical-align: middle;\n",
       "    }\n",
       "\n",
       "    .dataframe tbody tr th {\n",
       "        vertical-align: top;\n",
       "    }\n",
       "\n",
       "    .dataframe thead th {\n",
       "        text-align: right;\n",
       "    }\n",
       "</style>\n",
       "<table border=\"1\" class=\"dataframe\">\n",
       "  <thead>\n",
       "    <tr style=\"text-align: right;\">\n",
       "      <th></th>\n",
       "      <th>experiment_container_id</th>\n",
       "      <th>cell_specimen_id</th>\n",
       "      <th>pref_dir_dg</th>\n",
       "      <th>pref_tf_dg</th>\n",
       "    </tr>\n",
       "  </thead>\n",
       "  <tbody>\n",
       "    <tr>\n",
       "      <th>1</th>\n",
       "      <td>511498742</td>\n",
       "      <td>517397340</td>\n",
       "      <td>0.0</td>\n",
       "      <td>1.0</td>\n",
       "    </tr>\n",
       "    <tr>\n",
       "      <th>2</th>\n",
       "      <td>511498742</td>\n",
       "      <td>517397343</td>\n",
       "      <td>180.0</td>\n",
       "      <td>2.0</td>\n",
       "    </tr>\n",
       "    <tr>\n",
       "      <th>5</th>\n",
       "      <td>511498742</td>\n",
       "      <td>517397357</td>\n",
       "      <td>135.0</td>\n",
       "      <td>1.0</td>\n",
       "    </tr>\n",
       "    <tr>\n",
       "      <th>7</th>\n",
       "      <td>511498742</td>\n",
       "      <td>517397365</td>\n",
       "      <td>180.0</td>\n",
       "      <td>1.0</td>\n",
       "    </tr>\n",
       "    <tr>\n",
       "      <th>9</th>\n",
       "      <td>511498742</td>\n",
       "      <td>517397373</td>\n",
       "      <td>225.0</td>\n",
       "      <td>1.0</td>\n",
       "    </tr>\n",
       "    <tr>\n",
       "      <th>...</th>\n",
       "      <td>...</td>\n",
       "      <td>...</td>\n",
       "      <td>...</td>\n",
       "      <td>...</td>\n",
       "    </tr>\n",
       "    <tr>\n",
       "      <th>63241</th>\n",
       "      <td>712178509</td>\n",
       "      <td>738949092</td>\n",
       "      <td>0.0</td>\n",
       "      <td>2.0</td>\n",
       "    </tr>\n",
       "    <tr>\n",
       "      <th>63243</th>\n",
       "      <td>712178509</td>\n",
       "      <td>738949156</td>\n",
       "      <td>180.0</td>\n",
       "      <td>1.0</td>\n",
       "    </tr>\n",
       "    <tr>\n",
       "      <th>63245</th>\n",
       "      <td>712178509</td>\n",
       "      <td>738949207</td>\n",
       "      <td>0.0</td>\n",
       "      <td>2.0</td>\n",
       "    </tr>\n",
       "    <tr>\n",
       "      <th>63248</th>\n",
       "      <td>712178509</td>\n",
       "      <td>738949318</td>\n",
       "      <td>45.0</td>\n",
       "      <td>1.0</td>\n",
       "    </tr>\n",
       "    <tr>\n",
       "      <th>63249</th>\n",
       "      <td>712178509</td>\n",
       "      <td>738949355</td>\n",
       "      <td>225.0</td>\n",
       "      <td>1.0</td>\n",
       "    </tr>\n",
       "  </tbody>\n",
       "</table>\n",
       "<p>29635 rows × 4 columns</p>\n",
       "</div>"
      ],
      "text/plain": [
       "       experiment_container_id  cell_specimen_id  pref_dir_dg  pref_tf_dg\n",
       "1                    511498742         517397340          0.0         1.0\n",
       "2                    511498742         517397343        180.0         2.0\n",
       "5                    511498742         517397357        135.0         1.0\n",
       "7                    511498742         517397365        180.0         1.0\n",
       "9                    511498742         517397373        225.0         1.0\n",
       "...                        ...               ...          ...         ...\n",
       "63241                712178509         738949092          0.0         2.0\n",
       "63243                712178509         738949156        180.0         1.0\n",
       "63245                712178509         738949207          0.0         2.0\n",
       "63248                712178509         738949318         45.0         1.0\n",
       "63249                712178509         738949355        225.0         1.0\n",
       "\n",
       "[29635 rows x 4 columns]"
      ]
     },
     "execution_count": 35,
     "metadata": {},
     "output_type": "execute_result"
    }
   ],
   "source": [
    "df_dg"
   ]
  },
  {
   "cell_type": "code",
   "execution_count": 36,
   "id": "4de9b7b4-a93b-4737-bb1a-310b28fc70db",
   "metadata": {},
   "outputs": [],
   "source": [
    "n_filters = 2\n",
    "\n",
    "df_dg_sample = df_dg.sample(n_filters)\n",
    "\n",
    "gs = [\n",
    "    np.moveaxis(np.array([\n",
    "        cv2.getGaborKernel(\n",
    "            ksize=(80,80),\n",
    "            sigma=40,\n",
    "            theta=r['pref_dir_dg']*deg_to_rad,\n",
    "            lambd=1/spat_freq,\n",
    "            gamma=1,\n",
    "            psi=i*2*np.pi,\n",
    "        )\n",
    "        for i in np.linspace(0, 1, int(frames_per_s/r['pref_tf_dg']))\n",
    "    ], dtype=np.float16), 0, -1)\n",
    "    for _, r in df_dg_sample.iterrows()\n",
    "]\n",
    "\n",
    "oris = [r['pref_dir_dg'] for _, r in df_dg_sample.iterrows()]\n",
    "t_freqs = [r['pref_tf_dg'] for _, r in df_dg_sample.iterrows()]"
   ]
  },
  {
   "cell_type": "code",
   "execution_count": 37,
   "id": "4781ceca-a776-4ab0-b114-622f2c85b940",
   "metadata": {},
   "outputs": [
    {
     "name": "stdout",
     "output_type": "stream",
     "text": [
      "(81, 81, 29)\n"
     ]
    },
    {
     "data": {
      "image/png": "[encoded data removed]",
      "text/plain": [
       "<Figure size 500x400 with 1 Axes>"
      ]
     },
     "metadata": {},
     "output_type": "display_data"
    },
    {
     "name": "stdout",
     "output_type": "stream",
     "text": [
      "\n",
      "(81, 81, 1)\n"
     ]
    },
    {
     "data": {
      "image/png": "[encoded data removed]",
      "text/plain": [
       "<Figure size 500x400 with 1 Axes>"
      ]
     },
     "metadata": {},
     "output_type": "display_data"
    },
    {
     "name": "stdout",
     "output_type": "stream",
     "text": [
      "\n"
     ]
    }
   ],
   "source": [
    "for g_t in gs:    \n",
    "    print(g_t.shape)\n",
    "    plt.figure(figsize=(5, 4))\n",
    "    plt.imshow(g_t[:,:,0], cmap='gray')\n",
    "    plt.show()\n",
    "    print()"
   ]
  },
  {
   "cell_type": "code",
   "execution_count": 39,
   "id": "023e6dd1-1e6d-47f4-a4b9-c2423f6474d7",
   "metadata": {},
   "outputs": [],
   "source": [
    "video_conv_dict = {}"
   ]
  },
  {
   "cell_type": "code",
   "execution_count": 40,
   "id": "8f6f7cda-8d17-41b4-aaaf-0f817ecb30cd",
   "metadata": {},
   "outputs": [
    {
     "name": "stdout",
     "output_type": "stream",
     "text": [
      "Kernel 0\n",
      "(360, 640, 281) float16\n",
      "(81, 81, 29) float16\n",
      "ready!\n",
      "convolution done!\n",
      "ready to normalize!\n",
      "\n",
      "Kernel 1\n",
      "(360, 640, 281) float16\n",
      "(81, 81, 1) float16\n",
      "ready!\n",
      "convolution done!\n",
      "ready to normalize!\n",
      "\n"
     ]
    }
   ],
   "source": [
    "for g_idx, g_t in enumerate(gs):\n",
    "    print(f\"Kernel {g_idx}\")\n",
    "    print(video.shape, video.dtype, flush=True)\n",
    "    print(g_t.shape, g_t.dtype, flush=True)\n",
    "    print(\"ready!\", flush=True)\n",
    "    video_conv = scipy.signal.fftconvolve(\n",
    "        video,\n",
    "        g_t,\n",
    "        mode='full',\n",
    "    )\n",
    "\n",
    "    print(\"convolution done!\", flush=True)\n",
    "    print(\"ready to normalize!\", flush=True)\n",
    "\n",
    "    video_conv = 255*(video_conv - video_conv.min())/(video_conv.max() - video_conv.min())\n",
    "    video_conv_dict[g_idx] = video_conv\n",
    "    \n",
    "    print()"
   ]
  },
  {
   "cell_type": "code",
   "execution_count": 24,
   "id": "36999886-8ec7-4df5-9ca7-ea6d32f1b4c5",
   "metadata": {},
   "outputs": [],
   "source": [
    "window_filter = f\"Filter 0\"\n",
    "cv2.namedWindow(window_filter, cv2.WINDOW_NORMAL)"
   ]
  },
  {
   "cell_type": "code",
   "execution_count": 25,
   "id": "0e8e7c84-21cc-4c06-ab77-76df1b3807b9",
   "metadata": {},
   "outputs": [
    {
     "ename": "KeyboardInterrupt",
     "evalue": "",
     "output_type": "error",
     "traceback": [
      "\u001b[0;31m---------------------------------------------------------------------------\u001b[0m",
      "\u001b[0;31mKeyboardInterrupt\u001b[0m                         Traceback (most recent call last)",
      "Cell \u001b[0;32mIn [25], line 5\u001b[0m\n\u001b[1;32m      3\u001b[0m \u001b[38;5;28;01mfor\u001b[39;00m idx \u001b[38;5;129;01min\u001b[39;00m \u001b[38;5;28mrange\u001b[39m(video_conv\u001b[38;5;241m.\u001b[39mshape[\u001b[38;5;241m-\u001b[39m\u001b[38;5;241m1\u001b[39m]):\n\u001b[1;32m      4\u001b[0m     cv2\u001b[38;5;241m.\u001b[39mimshow(window_filter, video_conv[:,:,idx])\n\u001b[0;32m----> 5\u001b[0m     \u001b[43mtime\u001b[49m\u001b[38;5;241;43m.\u001b[39;49m\u001b[43msleep\u001b[49m\u001b[43m(\u001b[49m\u001b[38;5;241;43m1\u001b[39;49m\u001b[38;5;241;43m/\u001b[39;49m\u001b[43mframes_per_s\u001b[49m\u001b[43m)\u001b[49m\n",
      "\u001b[0;31mKeyboardInterrupt\u001b[0m: "
     ]
    }
   ],
   "source": [
    "video_conv = video_conv_dict[0]\n",
    "\n",
    "for idx in range(video_conv.shape[-1]):\n",
    "    cv2.imshow(window_filter, video_conv[:,:,idx])\n",
    "    \n",
    "    key = cv2.waitKey(5)\n",
    "    if key == 27: # exit on ESC\n",
    "        break\n",
    "        \n",
    "    time.sleep(1/frames_per_s)\n",
    "    \n",
    "cv2.destroyAllWindows()\n",
    "cv2.waitKey(1)"
   ]
  },
  {
   "cell_type": "code",
   "execution_count": null,
   "id": "6f5b73aa-54d1-498b-8f30-f05271c23e04",
   "metadata": {},
   "outputs": [],
   "source": []
  },
  {
   "cell_type": "code",
   "execution_count": null,
   "id": "5ac7e63d-6420-46b4-bcc7-65b2c22f36d9",
   "metadata": {},
   "outputs": [],
   "source": []
  },
  {
   "cell_type": "markdown",
   "id": "9f34255d-db3c-4ed5-a0cd-4bd07c126b0f",
   "metadata": {},
   "source": [
    "# "
   ]
  }
 ],
 "metadata": {
  "kernelspec": {
   "display_name": "Python 3 (ipykernel)",
   "language": "python",
   "name": "python3"
  },
  "language_info": {
   "codemirror_mode": {
    "name": "ipython",
    "version": 3
   },
   "file_extension": ".py",
   "mimetype": "text/x-python",
   "name": "python",
   "nbconvert_exporter": "python",
   "pygments_lexer": "ipython3",
   "version": "3.9.15"
  }
 },
 "nbformat": 4,
 "nbformat_minor": 5
}
