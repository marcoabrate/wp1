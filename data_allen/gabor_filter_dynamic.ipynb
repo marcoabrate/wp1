{
 "cells": [
  {
   "cell_type": "code",
   "execution_count": 1,
   "id": "2e994910-2f5d-4f05-bc7c-a855b9286c4c",
   "metadata": {},
   "outputs": [],
   "source": [
    "import pandas as pd\n",
    "import cv2\n",
    "import numpy as np\n",
    "import scipy\n",
    "import time\n",
    "\n",
    "import matplotlib.pyplot as plt\n",
    "%matplotlib inline\n",
    "\n",
    "source = 0\n",
    "deg_to_rad = np.pi/180\n",
    "frames_per_s = 20\n",
    "spat_freq = 0.08"
   ]
  },
  {
   "cell_type": "code",
   "execution_count": 2,
   "id": "dd12e21a-b80c-4fe7-9e00-a5afcd38a4d5",
   "metadata": {},
   "outputs": [],
   "source": [
    "df = pd.read_csv(\"cell_metrics_VISp.csv\")"
   ]
  },
  {
   "cell_type": "code",
   "execution_count": 3,
   "id": "dae77906-8c0c-4bb6-916f-c2a343c37b82",
   "metadata": {},
   "outputs": [],
   "source": [
    "id_cols = [\n",
    "    \"experiment_container_id\", \"cell_specimen_id\"\n",
    "]\n",
    "\n",
    "sg_cols = [\n",
    "    \"pref_ori_sg\", \"pref_sf_sg\", \"pref_phase_sg\"\n",
    "]\n",
    "\n",
    "dg_cols = [\n",
    "    \"pref_dir_dg\", \"pref_tf_dg\"\n",
    "]"
   ]
  },
  {
   "cell_type": "code",
   "execution_count": 4,
   "id": "53db4540-b8b5-44ec-a476-dd52cec2436c",
   "metadata": {},
   "outputs": [
    {
     "data": {
      "text/plain": [
       "63251"
      ]
     },
     "execution_count": 4,
     "metadata": {},
     "output_type": "execute_result"
    }
   ],
   "source": [
    "df = df[df[\"failed_experiment_container\"]==\"f\"]\n",
    "len(df)"
   ]
  },
  {
   "cell_type": "markdown",
   "id": "7384c233-3d7a-4e31-bf48-b38424285ce7",
   "metadata": {},
   "source": [
    "### Sample Dynamic Filters"
   ]
  },
  {
   "cell_type": "code",
   "execution_count": 5,
   "id": "ac2be3f3-3d8a-46c5-b0dc-f32a38338237",
   "metadata": {},
   "outputs": [
    {
     "data": {
      "text/plain": [
       "29635"
      ]
     },
     "execution_count": 5,
     "metadata": {},
     "output_type": "execute_result"
    }
   ],
   "source": [
    "df_dg = df[id_cols+dg_cols].dropna()\n",
    "\n",
    "len(df_dg)"
   ]
  },
  {
   "cell_type": "code",
   "execution_count": 6,
   "id": "4b78b228-e62f-4d25-bd06-049914f6f6f8",
   "metadata": {},
   "outputs": [
    {
     "data": {
      "text/html": [
       "<div>\n",
       "<style scoped>\n",
       "    .dataframe tbody tr th:only-of-type {\n",
       "        vertical-align: middle;\n",
       "    }\n",
       "\n",
       "    .dataframe tbody tr th {\n",
       "        vertical-align: top;\n",
       "    }\n",
       "\n",
       "    .dataframe thead th {\n",
       "        text-align: right;\n",
       "    }\n",
       "</style>\n",
       "<table border=\"1\" class=\"dataframe\">\n",
       "  <thead>\n",
       "    <tr style=\"text-align: right;\">\n",
       "      <th></th>\n",
       "      <th>experiment_container_id</th>\n",
       "      <th>cell_specimen_id</th>\n",
       "      <th>pref_dir_dg</th>\n",
       "      <th>pref_tf_dg</th>\n",
       "    </tr>\n",
       "  </thead>\n",
       "  <tbody>\n",
       "    <tr>\n",
       "      <th>1</th>\n",
       "      <td>511498742</td>\n",
       "      <td>517397340</td>\n",
       "      <td>0.0</td>\n",
       "      <td>1.0</td>\n",
       "    </tr>\n",
       "    <tr>\n",
       "      <th>2</th>\n",
       "      <td>511498742</td>\n",
       "      <td>517397343</td>\n",
       "      <td>180.0</td>\n",
       "      <td>2.0</td>\n",
       "    </tr>\n",
       "    <tr>\n",
       "      <th>5</th>\n",
       "      <td>511498742</td>\n",
       "      <td>517397357</td>\n",
       "      <td>135.0</td>\n",
       "      <td>1.0</td>\n",
       "    </tr>\n",
       "    <tr>\n",
       "      <th>7</th>\n",
       "      <td>511498742</td>\n",
       "      <td>517397365</td>\n",
       "      <td>180.0</td>\n",
       "      <td>1.0</td>\n",
       "    </tr>\n",
       "    <tr>\n",
       "      <th>9</th>\n",
       "      <td>511498742</td>\n",
       "      <td>517397373</td>\n",
       "      <td>225.0</td>\n",
       "      <td>1.0</td>\n",
       "    </tr>\n",
       "    <tr>\n",
       "      <th>...</th>\n",
       "      <td>...</td>\n",
       "      <td>...</td>\n",
       "      <td>...</td>\n",
       "      <td>...</td>\n",
       "    </tr>\n",
       "    <tr>\n",
       "      <th>63241</th>\n",
       "      <td>712178509</td>\n",
       "      <td>738949092</td>\n",
       "      <td>0.0</td>\n",
       "      <td>2.0</td>\n",
       "    </tr>\n",
       "    <tr>\n",
       "      <th>63243</th>\n",
       "      <td>712178509</td>\n",
       "      <td>738949156</td>\n",
       "      <td>180.0</td>\n",
       "      <td>1.0</td>\n",
       "    </tr>\n",
       "    <tr>\n",
       "      <th>63245</th>\n",
       "      <td>712178509</td>\n",
       "      <td>738949207</td>\n",
       "      <td>0.0</td>\n",
       "      <td>2.0</td>\n",
       "    </tr>\n",
       "    <tr>\n",
       "      <th>63248</th>\n",
       "      <td>712178509</td>\n",
       "      <td>738949318</td>\n",
       "      <td>45.0</td>\n",
       "      <td>1.0</td>\n",
       "    </tr>\n",
       "    <tr>\n",
       "      <th>63249</th>\n",
       "      <td>712178509</td>\n",
       "      <td>738949355</td>\n",
       "      <td>225.0</td>\n",
       "      <td>1.0</td>\n",
       "    </tr>\n",
       "  </tbody>\n",
       "</table>\n",
       "<p>29635 rows × 4 columns</p>\n",
       "</div>"
      ],
      "text/plain": [
       "       experiment_container_id  cell_specimen_id  pref_dir_dg  pref_tf_dg\n",
       "1                    511498742         517397340          0.0         1.0\n",
       "2                    511498742         517397343        180.0         2.0\n",
       "5                    511498742         517397357        135.0         1.0\n",
       "7                    511498742         517397365        180.0         1.0\n",
       "9                    511498742         517397373        225.0         1.0\n",
       "...                        ...               ...          ...         ...\n",
       "63241                712178509         738949092          0.0         2.0\n",
       "63243                712178509         738949156        180.0         1.0\n",
       "63245                712178509         738949207          0.0         2.0\n",
       "63248                712178509         738949318         45.0         1.0\n",
       "63249                712178509         738949355        225.0         1.0\n",
       "\n",
       "[29635 rows x 4 columns]"
      ]
     },
     "execution_count": 6,
     "metadata": {},
     "output_type": "execute_result"
    }
   ],
   "source": [
    "df_dg"
   ]
  },
  {
   "cell_type": "code",
   "execution_count": 7,
   "id": "4de9b7b4-a93b-4737-bb1a-310b28fc70db",
   "metadata": {},
   "outputs": [],
   "source": [
    "n_filters = 2\n",
    "\n",
    "df_dg_sample = df_dg.sample(n_filters)\n",
    "\n",
    "gs = [\n",
    "    np.moveaxis(np.array([\n",
    "        cv2.getGaborKernel(\n",
    "            ksize=(80,80),\n",
    "            sigma=40,\n",
    "            theta=r['pref_dir_dg']*deg_to_rad,\n",
    "            lambd=1/spat_freq,\n",
    "            gamma=1,\n",
    "            psi=i*2*np.pi,\n",
    "        )\n",
    "        for i in np.linspace(0, 1, int(frames_per_s/r['pref_tf_dg']))\n",
    "    ], dtype=np.float16), 0, -1)\n",
    "    for _, r in df_dg_sample.iterrows()\n",
    "]\n",
    "\n",
    "oris = [r['pref_dir_dg'] for _, r in df_dg_sample.iterrows()]\n",
    "t_freqs = [r['pref_tf_dg'] for _, r in df_dg_sample.iterrows()]"
   ]
  },
  {
   "cell_type": "code",
   "execution_count": 8,
   "id": "4781ceca-a776-4ab0-b114-622f2c85b940",
   "metadata": {},
   "outputs": [
    {
     "name": "stdout",
     "output_type": "stream",
     "text": [
      "(81, 81, 10)\n"
     ]
    },
    {
     "data": {
      "image/png": "[encoded data removed]",
      "text/plain": [
       "<Figure size 500x400 with 1 Axes>"
      ]
     },
     "metadata": {},
     "output_type": "display_data"
    },
    {
     "name": "stdout",
     "output_type": "stream",
     "text": [
      "\n",
      "(81, 81, 10)\n"
     ]
    },
    {
     "data": {
      "image/png": "[encoded data removed]",
      "text/plain": [
       "<Figure size 500x400 with 1 Axes>"
      ]
     },
     "metadata": {},
     "output_type": "display_data"
    },
    {
     "name": "stdout",
     "output_type": "stream",
     "text": [
      "\n"
     ]
    }
   ],
   "source": [
    "for g_t in gs:    \n",
    "    print(g_t.shape)\n",
    "    plt.figure(figsize=(5, 4))\n",
    "    plt.imshow(g_t[:,:,0], cmap='gray')\n",
    "    plt.show()\n",
    "    print()"
   ]
  },
  {
   "cell_type": "code",
   "execution_count": 9,
   "id": "c649bb4a-c851-409b-be0e-087471c90cad",
   "metadata": {},
   "outputs": [],
   "source": [
    "window_webcam = \"Webcam\"\n",
    "window_filter = \"Filter\"\n",
    "\n",
    "cv2.namedWindow(window_webcam, cv2.WINDOW_NORMAL)\n",
    "for g_idx in range(len(gs)):\n",
    "    cv2.namedWindow(f\"{window_filter}_{g_idx}\", cv2.WINDOW_NORMAL)\n",
    "\n",
    "cam = cv2.VideoCapture(source)"
   ]
  },
  {
   "cell_type": "code",
   "execution_count": 10,
   "id": "ecf33bd6-bdcd-48c5-be1e-5807dbeb994d",
   "metadata": {},
   "outputs": [
    {
     "data": {
      "text/plain": [
       "(144, 256, 10)"
      ]
     },
     "execution_count": 10,
     "metadata": {},
     "output_type": "execute_result"
    }
   ],
   "source": [
    "filter_video = False\n",
    "dts = []\n",
    "\n",
    "frame_idx = 1\n",
    "\n",
    "_ret, frame = cam.read()\n",
    "frame_gray = cv2.cvtColor(frame, cv2.COLOR_BGR2GRAY)\n",
    "frame_gray = cv2.flip(frame_gray, 1)\n",
    "frame_gray = cv2.resize(frame_gray, dsize=None, fx=0.2, fy=0.2)\n",
    "\n",
    "frame_max = max([g_t.shape[-1] for g_t in gs])\n",
    "frame_window = np.zeros(frame_gray.shape+(frame_max,))\n",
    "\n",
    "frame_window.shape"
   ]
  },
  {
   "cell_type": "code",
   "execution_count": null,
   "id": "22171f54-ba25-4774-ba14-4ff0b3ef3419",
   "metadata": {},
   "outputs": [
    {
     "name": "stdout",
     "output_type": "stream",
     "text": [
      "Video filtering is on\n"
     ]
    }
   ],
   "source": [
    "while _ret:\n",
    "    start = time.time()\n",
    "    \n",
    "    _ret, frame = cam.read()\n",
    "    \n",
    "    frame_gray = cv2.cvtColor(frame, cv2.COLOR_BGR2GRAY)\n",
    "    frame_gray = cv2.resize(frame_gray, dsize=None, fx=0.2, fy=0.2)\n",
    "    frame_gray = cv2.flip(frame_gray, 1)\n",
    "    frame_gray_mean = frame_gray.mean()\n",
    "    frame_gray = (frame_gray - frame_gray_mean) / frame_gray_mean\n",
    "\n",
    "    cv2.imshow(window_webcam, frame_gray)\n",
    "    \n",
    "    frame_gray_norm = (frame_gray - frame_gray.min()) / (frame_gray.max() - frame_gray.min())\n",
    "    \n",
    "    frame_window[:,:,1:] = frame_window[:,:,:-1]\n",
    "    frame_window[:,:,0] = frame_gray_norm\n",
    "    \n",
    "    if filter_video:\n",
    "        for g_idx, g_t in enumerate(gs):\n",
    "            if frame_idx >= g_t.shape[-1]:\n",
    "                frame_conv = scipy.ndimage.convolve(\n",
    "                    frame_window,\n",
    "                    g_t,\n",
    "                    mode='constant',\n",
    "                )\n",
    "                frame_conv = 255*(frame_conv - frame_conv.min())/(frame_conv.max() - frame_conv.min())\n",
    "                cv2.imshow(f\"{window_filter}_{g_idx}\", frame_conv)\n",
    "            else:\n",
    "                frame_idx += 1\n",
    "        time.sleep(0.5)\n",
    "\n",
    "    key = cv2.waitKey(5)\n",
    "    if key == 27: # exit on ESC\n",
    "        break\n",
    "    if key == ord('1'):\n",
    "        filter_video = not filter_video\n",
    "        print('Video filtering is', ['off', 'on'][filter_video])\n",
    "        \n",
    "    end = time.time()\n",
    "    dt = end-start\n",
    "    dts.append(dt)\n",
    "\n",
    "cv2.imwrite(\"last_frame.jpg\", frame_gray)\n",
    "np.save(\"dts.npy\", np.array(dts))"
   ]
  },
  {
   "cell_type": "code",
   "execution_count": null,
   "id": "6f5b73aa-54d1-498b-8f30-f05271c23e04",
   "metadata": {},
   "outputs": [],
   "source": [
    "cv2.destroyAllWindows()\n",
    "cv2.waitKey(1)"
   ]
  },
  {
   "cell_type": "code",
   "execution_count": null,
   "id": "5ac7e63d-6420-46b4-bcc7-65b2c22f36d9",
   "metadata": {},
   "outputs": [],
   "source": []
  },
  {
   "cell_type": "markdown",
   "id": "9f34255d-db3c-4ed5-a0cd-4bd07c126b0f",
   "metadata": {},
   "source": [
    "# "
   ]
  }
 ],
 "metadata": {
  "kernelspec": {
   "display_name": "Python 3 (ipykernel)",
   "language": "python",
   "name": "python3"
  },
  "language_info": {
   "codemirror_mode": {
    "name": "ipython",
    "version": 3
   },
   "file_extension": ".py",
   "mimetype": "text/x-python",
   "name": "python",
   "nbconvert_exporter": "python",
   "pygments_lexer": "ipython3",
   "version": "3.9.15"
  }
 },
 "nbformat": 4,
 "nbformat_minor": 5
}
