{
 "cells": [
  {
   "cell_type": "code",
   "execution_count": 32,
   "id": "2e994910-2f5d-4f05-bc7c-a855b9286c4c",
   "metadata": {},
   "outputs": [],
   "source": [
    "import pandas as pd\n",
    "import cv2\n",
    "import numpy as np\n",
    "import scipy\n",
    "import time\n",
    "\n",
    "import matplotlib.pyplot as plt\n",
    "from matplotlib import cm\n",
    "from matplotlib.ticker import LinearLocator\n",
    "%matplotlib inline\n",
    "\n",
    "source = 0\n",
    "deg_to_rad = np.pi/180\n",
    "spat_freq = 0.08"
   ]
  },
  {
   "cell_type": "code",
   "execution_count": 33,
   "id": "dd12e21a-b80c-4fe7-9e00-a5afcd38a4d5",
   "metadata": {},
   "outputs": [],
   "source": [
    "df = pd.read_csv(\"cell_metrics_VISp.csv\")"
   ]
  },
  {
   "cell_type": "code",
   "execution_count": 34,
   "id": "dae77906-8c0c-4bb6-916f-c2a343c37b82",
   "metadata": {},
   "outputs": [],
   "source": [
    "id_cols = [\n",
    "    \"experiment_container_id\", \"cell_specimen_id\"\n",
    "]\n",
    "\n",
    "sg_cols = [\n",
    "    \"pref_ori_sg\", \"pref_sf_sg\", \"pref_phase_sg\"\n",
    "]\n",
    "\n",
    "dg_cols = [\n",
    "    \"pref_dir_dg\", \"pref_tf_dg\"\n",
    "]"
   ]
  },
  {
   "cell_type": "code",
   "execution_count": 35,
   "id": "53db4540-b8b5-44ec-a476-dd52cec2436c",
   "metadata": {},
   "outputs": [
    {
     "data": {
      "text/plain": [
       "63251"
      ]
     },
     "execution_count": 35,
     "metadata": {},
     "output_type": "execute_result"
    }
   ],
   "source": [
    "df = df[df[\"failed_experiment_container\"]==\"f\"]\n",
    "len(df)"
   ]
  },
  {
   "cell_type": "markdown",
   "id": "b697badf-8a7e-4b5d-a832-4a08a1f30e75",
   "metadata": {
    "jp-MarkdownHeadingCollapsed": true,
    "tags": []
   },
   "source": [
    "### Video Capturing"
   ]
  },
  {
   "cell_type": "code",
   "execution_count": 30,
   "id": "bbeea930-534f-4093-a98d-92d1ea2f3256",
   "metadata": {},
   "outputs": [],
   "source": [
    "window_webcam = \"Webcam\"\n",
    "cv2.namedWindow(window_webcam, cv2.WINDOW_NORMAL)\n",
    "\n",
    "cam = cv2.VideoCapture(source)"
   ]
  },
  {
   "cell_type": "code",
   "execution_count": 31,
   "id": "12564842-4844-44a4-87af-208759135fec",
   "metadata": {},
   "outputs": [],
   "source": [
    "dts = []\n",
    "video = []\n",
    "T = 10\n",
    "\n",
    "while sum(dts) < T:\n",
    "    start = time.time()\n",
    "    \n",
    "    _ret, frame = cam.read()\n",
    "    \n",
    "    frame_gray = cv2.cvtColor(frame, cv2.COLOR_BGR2GRAY)\n",
    "    frame_gray = cv2.resize(frame_gray, dsize=None, fx=.5, fy=.5)\n",
    "    frame_gray = cv2.flip(frame_gray, 1)\n",
    "    # frame_gray_mean = frame_gray.mean()\n",
    "    # frame_gray = (frame_gray - frame_gray_mean) / frame_gray_mean\n",
    "\n",
    "    cv2.imshow(window_webcam, frame_gray)\n",
    "    \n",
    "    # frame_gray_norm = (frame_gray - frame_gray.min()) / (frame_gray.max() - frame_gray.min())\n",
    "    \n",
    "    video.append(frame_gray)\n",
    "    \n",
    "    key = cv2.waitKey(5)\n",
    "    if key == 27: # exit on ESC\n",
    "        break\n",
    "        \n",
    "    end = time.time()\n",
    "    dt = end-start\n",
    "    dts.append(dt)"
   ]
  },
  {
   "cell_type": "code",
   "execution_count": 32,
   "id": "72c74918-684c-469f-b7e3-d08f404798d9",
   "metadata": {},
   "outputs": [
    {
     "data": {
      "text/plain": [
       "-1"
      ]
     },
     "execution_count": 32,
     "metadata": {},
     "output_type": "execute_result"
    }
   ],
   "source": [
    "cv2.destroyAllWindows()\n",
    "cv2.waitKey(1)"
   ]
  },
  {
   "cell_type": "code",
   "execution_count": null,
   "id": "98d0e1e8-0201-495a-bbba-ef96b80b655a",
   "metadata": {},
   "outputs": [],
   "source": [
    "video = (video - video.min()) / (video.max() - video.min())"
   ]
  },
  {
   "cell_type": "code",
   "execution_count": 33,
   "id": "97f28fa0-2f70-44ef-8b86-0692acb6247a",
   "metadata": {},
   "outputs": [
    {
     "name": "stdout",
     "output_type": "stream",
     "text": [
      "Video shape: (360, 640, 281)\n",
      "FPS: 29.0\n"
     ]
    }
   ],
   "source": [
    "video = np.moveaxis(np.array(video, dtype=np.float16), 0, -1)\n",
    "\n",
    "frames_per_s = np.ceil(video.shape[-1] / sum(dts))\n",
    "print(f\"Video shape: {video.shape}\")\n",
    "print(f\"FPS: {frames_per_s}\")"
   ]
  },
  {
   "cell_type": "markdown",
   "id": "7384c233-3d7a-4e31-bf48-b38424285ce7",
   "metadata": {},
   "source": [
    "### Sample Dynamic Filters"
   ]
  },
  {
   "cell_type": "code",
   "execution_count": 36,
   "id": "ac2be3f3-3d8a-46c5-b0dc-f32a38338237",
   "metadata": {},
   "outputs": [
    {
     "data": {
      "text/plain": [
       "29635"
      ]
     },
     "execution_count": 36,
     "metadata": {},
     "output_type": "execute_result"
    }
   ],
   "source": [
    "df_dg = df[id_cols+dg_cols].dropna()\n",
    "\n",
    "len(df_dg)"
   ]
  },
  {
   "cell_type": "code",
   "execution_count": 37,
   "id": "4b78b228-e62f-4d25-bd06-049914f6f6f8",
   "metadata": {},
   "outputs": [
    {
     "data": {
      "text/html": [
       "<div>\n",
       "<style scoped>\n",
       "    .dataframe tbody tr th:only-of-type {\n",
       "        vertical-align: middle;\n",
       "    }\n",
       "\n",
       "    .dataframe tbody tr th {\n",
       "        vertical-align: top;\n",
       "    }\n",
       "\n",
       "    .dataframe thead th {\n",
       "        text-align: right;\n",
       "    }\n",
       "</style>\n",
       "<table border=\"1\" class=\"dataframe\">\n",
       "  <thead>\n",
       "    <tr style=\"text-align: right;\">\n",
       "      <th></th>\n",
       "      <th>experiment_container_id</th>\n",
       "      <th>cell_specimen_id</th>\n",
       "      <th>pref_dir_dg</th>\n",
       "      <th>pref_tf_dg</th>\n",
       "    </tr>\n",
       "  </thead>\n",
       "  <tbody>\n",
       "    <tr>\n",
       "      <th>1</th>\n",
       "      <td>511498742</td>\n",
       "      <td>517397340</td>\n",
       "      <td>0.0</td>\n",
       "      <td>1.0</td>\n",
       "    </tr>\n",
       "    <tr>\n",
       "      <th>2</th>\n",
       "      <td>511498742</td>\n",
       "      <td>517397343</td>\n",
       "      <td>180.0</td>\n",
       "      <td>2.0</td>\n",
       "    </tr>\n",
       "    <tr>\n",
       "      <th>5</th>\n",
       "      <td>511498742</td>\n",
       "      <td>517397357</td>\n",
       "      <td>135.0</td>\n",
       "      <td>1.0</td>\n",
       "    </tr>\n",
       "    <tr>\n",
       "      <th>7</th>\n",
       "      <td>511498742</td>\n",
       "      <td>517397365</td>\n",
       "      <td>180.0</td>\n",
       "      <td>1.0</td>\n",
       "    </tr>\n",
       "    <tr>\n",
       "      <th>9</th>\n",
       "      <td>511498742</td>\n",
       "      <td>517397373</td>\n",
       "      <td>225.0</td>\n",
       "      <td>1.0</td>\n",
       "    </tr>\n",
       "    <tr>\n",
       "      <th>...</th>\n",
       "      <td>...</td>\n",
       "      <td>...</td>\n",
       "      <td>...</td>\n",
       "      <td>...</td>\n",
       "    </tr>\n",
       "    <tr>\n",
       "      <th>63241</th>\n",
       "      <td>712178509</td>\n",
       "      <td>738949092</td>\n",
       "      <td>0.0</td>\n",
       "      <td>2.0</td>\n",
       "    </tr>\n",
       "    <tr>\n",
       "      <th>63243</th>\n",
       "      <td>712178509</td>\n",
       "      <td>738949156</td>\n",
       "      <td>180.0</td>\n",
       "      <td>1.0</td>\n",
       "    </tr>\n",
       "    <tr>\n",
       "      <th>63245</th>\n",
       "      <td>712178509</td>\n",
       "      <td>738949207</td>\n",
       "      <td>0.0</td>\n",
       "      <td>2.0</td>\n",
       "    </tr>\n",
       "    <tr>\n",
       "      <th>63248</th>\n",
       "      <td>712178509</td>\n",
       "      <td>738949318</td>\n",
       "      <td>45.0</td>\n",
       "      <td>1.0</td>\n",
       "    </tr>\n",
       "    <tr>\n",
       "      <th>63249</th>\n",
       "      <td>712178509</td>\n",
       "      <td>738949355</td>\n",
       "      <td>225.0</td>\n",
       "      <td>1.0</td>\n",
       "    </tr>\n",
       "  </tbody>\n",
       "</table>\n",
       "<p>29635 rows × 4 columns</p>\n",
       "</div>"
      ],
      "text/plain": [
       "       experiment_container_id  cell_specimen_id  pref_dir_dg  pref_tf_dg\n",
       "1                    511498742         517397340          0.0         1.0\n",
       "2                    511498742         517397343        180.0         2.0\n",
       "5                    511498742         517397357        135.0         1.0\n",
       "7                    511498742         517397365        180.0         1.0\n",
       "9                    511498742         517397373        225.0         1.0\n",
       "...                        ...               ...          ...         ...\n",
       "63241                712178509         738949092          0.0         2.0\n",
       "63243                712178509         738949156        180.0         1.0\n",
       "63245                712178509         738949207          0.0         2.0\n",
       "63248                712178509         738949318         45.0         1.0\n",
       "63249                712178509         738949355        225.0         1.0\n",
       "\n",
       "[29635 rows x 4 columns]"
      ]
     },
     "execution_count": 37,
     "metadata": {},
     "output_type": "execute_result"
    }
   ],
   "source": [
    "df_dg"
   ]
  },
  {
   "cell_type": "code",
   "execution_count": 38,
   "id": "7ef28706-3723-4f83-a8af-3f899599ffde",
   "metadata": {},
   "outputs": [],
   "source": [
    "frames_per_s = 60"
   ]
  },
  {
   "cell_type": "code",
   "execution_count": 39,
   "id": "4de9b7b4-a93b-4737-bb1a-310b28fc70db",
   "metadata": {},
   "outputs": [],
   "source": [
    "n_filters = 10\n",
    "\n",
    "df_dg_sample = df_dg.sample(n_filters)\n",
    "\n",
    "gs = [\n",
    "    np.moveaxis(np.array([\n",
    "        cv2.getGaborKernel(\n",
    "            ksize=(81,81),\n",
    "            sigma=40,\n",
    "            theta=r['pref_dir_dg']*deg_to_rad,\n",
    "            lambd=1/spat_freq,\n",
    "            gamma=1,\n",
    "            psi=i*2*np.pi,\n",
    "        )\n",
    "        for i in np.linspace(0, 1, int(frames_per_s/r['pref_tf_dg']))\n",
    "    ], dtype=np.float16), 0, -1)\n",
    "    for _, r in df_dg_sample.iterrows()\n",
    "]\n",
    "\n",
    "oris = [r['pref_dir_dg'] for _, r in df_dg_sample.iterrows()]\n",
    "t_freqs = [r['pref_tf_dg'] for _, r in df_dg_sample.iterrows()]"
   ]
  },
  {
   "cell_type": "code",
   "execution_count": 40,
   "id": "4781ceca-a776-4ab0-b114-622f2c85b940",
   "metadata": {},
   "outputs": [],
   "source": [
    "# fig, axs = plt.subplots(len(gs), 2, figsize=(12, 5*len(gs)))\n",
    "\n",
    "# for idx, g_t in enumerate(gs):\n",
    "#     axs[idx, 0].imshow(g_t[:,:,0], cmap='gray')\n",
    "#     axs[idx, 0].set_title(f\"{idx}: {g_t.shape}\\nOri: {oris[idx]}, Freq: {t_freqs[idx]}\")\n",
    "\n",
    "#     axs[idx, 1].plot(range(g_t.shape[-1]), np.mean(g_t, axis=(0,1)))\n",
    "#     axs[idx, 1].set_ylim([-1,1])\n",
    "#     axs[idx, 1].grid()\n",
    "    \n",
    "# plt.show()"
   ]
  },
  {
   "cell_type": "code",
   "execution_count": null,
   "id": "26919164-ad81-427e-9377-0762d9f04ea7",
   "metadata": {},
   "outputs": [],
   "source": []
  },
  {
   "cell_type": "code",
   "execution_count": 41,
   "id": "9be051c4-d7da-4053-9781-ff95adc6e8b6",
   "metadata": {},
   "outputs": [
    {
     "data": {
      "text/plain": [
       "(81, 81, 30)"
      ]
     },
     "execution_count": 41,
     "metadata": {},
     "output_type": "execute_result"
    }
   ],
   "source": [
    "sample = 5\n",
    "gs_sample = gs[sample]\n",
    "gs_sample.shape"
   ]
  },
  {
   "cell_type": "code",
   "execution_count": 42,
   "id": "250a2dbd-d095-4b57-8826-3ebd0baab92c",
   "metadata": {},
   "outputs": [],
   "source": [
    "# fig, axs = plt.subplots(3, 4, figsize=(15, 15))\n",
    "\n",
    "# for ax, t in zip(axs.flatten(), np.arange(0, gs_sample.shape[-1], int(np.floor(gs_sample.shape[-1]/len(axs.flatten()))))):\n",
    "#     # Make data.\n",
    "#     ax.imshow(gs_sample[:,:,t], cmap='gray')\n",
    "\n",
    "#     ax.set_title(t)\n",
    "\n",
    "# plt.savefig(\"img.jpg\")\n",
    "# plt.show()"
   ]
  },
  {
   "cell_type": "code",
   "execution_count": 43,
   "id": "25b7d32b-5616-4ddf-af3c-613529dce923",
   "metadata": {},
   "outputs": [],
   "source": [
    "# fig, axs = plt.subplots(3, 4, figsize=(15, 15),subplot_kw={\"projection\": \"3d\"})\n",
    "\n",
    "# for ax, t in zip(axs.flatten(), np.arange(0, gs_sample.shape[-1], int(np.floor(gs_sample.shape[-1]/len(axs.flatten()))))):\n",
    "#     # Make data.\n",
    "#     l = gs_sample.shape[0]\n",
    "    \n",
    "#     X = np.linspace(0, l, l)\n",
    "#     Y = np.flip(np.linspace(0, l, l))\n",
    "#     X, Y = np.meshgrid(X, Y)\n",
    "\n",
    "#     Z = gs_sample[..., t]\n",
    "\n",
    "#     # Plot the surface.\n",
    "#     surf = ax.plot_surface(X, Y, Z, cmap=cm.coolwarm,\n",
    "#                            linewidth=0, antialiased=True)\n",
    "\n",
    "#     ax.set_title(t)\n",
    "#     # Customize the z axis.\n",
    "#     ax.set_zlim(-1.01, 1.01)\n",
    "#     ax.zaxis.set_major_locator(LinearLocator(10))\n",
    "#     # A StrMethodFormatter is used automatically\n",
    "#     ax.zaxis.set_major_formatter('{x:.02f}')\n",
    "\n",
    "# plt.savefig(\"img_3d.jpg\")\n",
    "# plt.show()"
   ]
  },
  {
   "cell_type": "code",
   "execution_count": 44,
   "id": "023e6dd1-1e6d-47f4-a4b9-c2423f6474d7",
   "metadata": {},
   "outputs": [],
   "source": [
    "video_conv_dict = {}"
   ]
  },
  {
   "cell_type": "code",
   "execution_count": 45,
   "id": "a49fe0fc-c487-492d-b28b-2e4a74ab7ef9",
   "metadata": {},
   "outputs": [],
   "source": [
    "gs_repeated = [np.repeat(g_t, 10, axis=-1) for g_t in gs]\n",
    "video_demo = np.concatenate(gs_repeated, axis=-1)\n",
    "# video_demo = (video_demo - video_demo.min()) / (video_demo.max() - video_demo.min())"
   ]
  },
  {
   "cell_type": "code",
   "execution_count": 46,
   "id": "8f6f7cda-8d17-41b4-aaaf-0f817ecb30cd",
   "metadata": {},
   "outputs": [
    {
     "name": "stdout",
     "output_type": "stream",
     "text": [
      "Kernel 0\n",
      "(81, 81, 4350) float16\n",
      "(81, 81, 60) float16\n",
      "ready!\n",
      "convolution done!\n",
      "ready to normalize!\n",
      "\n",
      "Kernel 1\n",
      "(81, 81, 4350) float16\n",
      "(81, 81, 60) float16\n",
      "ready!\n",
      "convolution done!\n",
      "ready to normalize!\n",
      "\n",
      "Kernel 2\n",
      "(81, 81, 4350) float16\n",
      "(81, 81, 30) float16\n",
      "ready!\n",
      "convolution done!\n",
      "ready to normalize!\n",
      "\n",
      "Kernel 3\n",
      "(81, 81, 4350) float16\n",
      "(81, 81, 60) float16\n",
      "ready!\n",
      "convolution done!\n",
      "ready to normalize!\n",
      "\n",
      "Kernel 4\n",
      "(81, 81, 4350) float16\n",
      "(81, 81, 30) float16\n",
      "ready!\n",
      "convolution done!\n",
      "ready to normalize!\n",
      "\n",
      "Kernel 5\n",
      "(81, 81, 4350) float16\n",
      "(81, 81, 30) float16\n",
      "ready!\n",
      "convolution done!\n",
      "ready to normalize!\n",
      "\n",
      "Kernel 6\n",
      "(81, 81, 4350) float16\n",
      "(81, 81, 15) float16\n",
      "ready!\n",
      "convolution done!\n",
      "ready to normalize!\n",
      "\n",
      "Kernel 7\n",
      "(81, 81, 4350) float16\n",
      "(81, 81, 60) float16\n",
      "ready!\n",
      "convolution done!\n",
      "ready to normalize!\n",
      "\n",
      "Kernel 8\n",
      "(81, 81, 4350) float16\n",
      "(81, 81, 60) float16\n",
      "ready!\n",
      "convolution done!\n",
      "ready to normalize!\n",
      "\n",
      "Kernel 9\n",
      "(81, 81, 4350) float16\n",
      "(81, 81, 30) float16\n",
      "ready!\n",
      "convolution done!\n",
      "ready to normalize!\n",
      "\n"
     ]
    }
   ],
   "source": [
    "video = video_demo\n",
    "for g_idx, g_t in enumerate(gs):\n",
    "    print(f\"Kernel {g_idx}\")\n",
    "    print(video.shape, video.dtype, flush=True)\n",
    "    print(g_t.shape, g_t.dtype, flush=True)\n",
    "    print(\"ready!\", flush=True)\n",
    "    video_conv = scipy.signal.fftconvolve(\n",
    "        video,\n",
    "        g_t,\n",
    "        mode='same',\n",
    "    )\n",
    "\n",
    "    print(\"convolution done!\", flush=True)\n",
    "    print(\"ready to normalize!\", flush=True)\n",
    "\n",
    "    video_conv = 255*(video_conv - video_conv.min())/(video_conv.max() - video_conv.min())\n",
    "    video_conv_dict[g_idx] = video_conv\n",
    "    \n",
    "    print()"
   ]
  },
  {
   "cell_type": "code",
   "execution_count": 21,
   "id": "36999886-8ec7-4df5-9ca7-ea6d32f1b4c5",
   "metadata": {},
   "outputs": [],
   "source": [
    "kernel_n = 1\n",
    "\n",
    "window_filter = f\"Kernel {kernel_n}\"\n",
    "cv2.namedWindow(window_filter, cv2.WINDOW_NORMAL)"
   ]
  },
  {
   "cell_type": "code",
   "execution_count": 22,
   "id": "0e8e7c84-21cc-4c06-ab77-76df1b3807b9",
   "metadata": {},
   "outputs": [
    {
     "data": {
      "text/plain": [
       "-1"
      ]
     },
     "execution_count": 22,
     "metadata": {},
     "output_type": "execute_result"
    }
   ],
   "source": [
    "video_conv = video_conv_dict[kernel_n]\n",
    "\n",
    "for idx in range(video_conv.shape[-1]):\n",
    "    cv2.imshow(window_filter, video_conv[:,:,idx])\n",
    "    \n",
    "    key = cv2.waitKey(5)\n",
    "    if key == 27: # exit on ESC\n",
    "        break\n",
    "        \n",
    "    time.sleep(1/frames_per_s)\n",
    "    \n",
    "cv2.destroyAllWindows()\n",
    "cv2.waitKey(1)"
   ]
  },
  {
   "cell_type": "code",
   "execution_count": 47,
   "id": "66c6de5b-602b-4ce9-a9c5-0671efb00f27",
   "metadata": {},
   "outputs": [
    {
     "data": {
      "text/plain": [
       "(81, 81, 300)"
      ]
     },
     "execution_count": 47,
     "metadata": {},
     "output_type": "execute_result"
    }
   ],
   "source": [
    "gs_repeated[2].shape"
   ]
  },
  {
   "cell_type": "code",
   "execution_count": 48,
   "id": "cd0b634d-898e-4297-9f2f-5dfb604239c3",
   "metadata": {},
   "outputs": [],
   "source": [
    "video_conv = video_conv_dict[2]"
   ]
  },
  {
   "cell_type": "code",
   "execution_count": 49,
   "id": "6f5b73aa-54d1-498b-8f30-f05271c23e04",
   "metadata": {},
   "outputs": [
    {
     "name": "stdout",
     "output_type": "stream",
     "text": [
      "0 (0.0, 1.0) mean value: 127.87808227539062\n",
      "\n",
      "1 (135.0, 1.0) mean value: 127.87910461425781\n",
      "\n",
      "2 (45.0, 2.0) mean value: 127.87349700927734\n",
      "\n",
      "3 (0.0, 1.0) mean value: 127.87916564941406\n",
      "\n",
      "4 (180.0, 2.0) mean value: 127.87798309326172\n",
      "\n",
      "5 (90.0, 2.0) mean value: 127.87791442871094\n",
      "\n",
      "6 (180.0, 4.0) mean value: 127.8779296875\n",
      "\n",
      "7 (180.0, 1.0) mean value: 127.8779296875\n",
      "\n",
      "8 (90.0, 1.0) mean value: 127.87798309326172\n",
      "\n",
      "9 (135.0, 2.0) mean value: 127.87771606445312\n",
      "\n"
     ]
    }
   ],
   "source": [
    "idx = 0\n",
    "for i, gsr in enumerate(gs_repeated):\n",
    "    video_conv_tmp = video_conv[..., idx:idx+gsr.shape[-1]]\n",
    "    print(f\"{i} ({oris[i]}, {t_freqs[i]}) mean value: {video_conv_tmp.mean()}\")\n",
    "    print()\n",
    "    idx += gsr.shape[-1]"
   ]
  },
  {
   "cell_type": "code",
   "execution_count": null,
   "id": "5ac7e63d-6420-46b4-bcc7-65b2c22f36d9",
   "metadata": {},
   "outputs": [],
   "source": []
  },
  {
   "cell_type": "markdown",
   "id": "9f34255d-db3c-4ed5-a0cd-4bd07c126b0f",
   "metadata": {},
   "source": [
    "# "
   ]
  }
 ],
 "metadata": {
  "kernelspec": {
   "display_name": "Python 3 (ipykernel)",
   "language": "python",
   "name": "python3"
  },
  "language_info": {
   "codemirror_mode": {
    "name": "ipython",
    "version": 3
   },
   "file_extension": ".py",
   "mimetype": "text/x-python",
   "name": "python",
   "nbconvert_exporter": "python",
   "pygments_lexer": "ipython3",
   "version": "3.9.15"
  }
 },
 "nbformat": 4,
 "nbformat_minor": 5
}
