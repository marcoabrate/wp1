{
 "cells": [
  {
   "cell_type": "markdown",
   "id": "f6331328-de6f-4c84-bd64-00fd244fc7d8",
   "metadata": {},
   "source": [
    "### Primary Visual Area (VISp)"
   ]
  },
  {
   "cell_type": "code",
   "execution_count": 29,
   "id": "2e994910-2f5d-4f05-bc7c-a855b9286c4c",
   "metadata": {},
   "outputs": [],
   "source": [
    "import pandas as pd"
   ]
  },
  {
   "cell_type": "code",
   "execution_count": 34,
   "id": "dd12e21a-b80c-4fe7-9e00-a5afcd38a4d5",
   "metadata": {},
   "outputs": [],
   "source": [
    "df = pd.read_csv(\"cell_metrics_VISp.csv\")"
   ]
  },
  {
   "cell_type": "code",
   "execution_count": 60,
   "id": "88fd290f-119d-4391-ab4a-78466df61b44",
   "metadata": {},
   "outputs": [
    {
     "data": {
      "text/plain": [
       "['all_stim',\n",
       " 'area',\n",
       " 'cell_specimen_id',\n",
       " 'donor_full_genotype',\n",
       " 'drifting_grating_large',\n",
       " 'drifting_grating_small',\n",
       " 'dsi_dg',\n",
       " 'experiment_container_id',\n",
       " 'failed_experiment_container',\n",
       " 'g_dsi_dg',\n",
       " 'g_osi_dg',\n",
       " 'g_osi_sg',\n",
       " 'image_sel_ns',\n",
       " 'imaging_depth',\n",
       " 'locally_sparse_noise_off_large',\n",
       " 'locally_sparse_noise_off_small',\n",
       " 'locally_sparse_noise_on_large',\n",
       " 'locally_sparse_noise_on_small',\n",
       " 'natural_movie_one_a_large',\n",
       " 'natural_movie_one_a_small',\n",
       " 'natural_movie_one_b_large',\n",
       " 'natural_movie_one_b_small',\n",
       " 'natural_movie_one_c_large',\n",
       " 'natural_movie_one_c_small',\n",
       " 'natural_movie_three_large',\n",
       " 'natural_movie_three_small',\n",
       " 'natural_movie_two_large',\n",
       " 'natural_movie_two_small',\n",
       " 'natural_scene_large',\n",
       " 'natural_scene_small',\n",
       " 'osi_dg',\n",
       " 'osi_sg',\n",
       " 'p_dg',\n",
       " 'p_ns',\n",
       " 'p_run_mod_dg',\n",
       " 'p_run_mod_ns',\n",
       " 'p_run_mod_sg',\n",
       " 'p_sg',\n",
       " 'peak_dff_dg',\n",
       " 'peak_dff_ns',\n",
       " 'peak_dff_sg',\n",
       " 'pref_dir_dg',\n",
       " 'pref_image_ns',\n",
       " 'pref_ori_sg',\n",
       " 'pref_phase_sg',\n",
       " 'pref_sf_sg',\n",
       " 'pref_tf_dg',\n",
       " 'receptive_field_off_large',\n",
       " 'receptive_field_off_small',\n",
       " 'receptive_field_on_large',\n",
       " 'receptive_field_on_small',\n",
       " 'reliability_dg',\n",
       " 'reliability_nm1_a',\n",
       " 'reliability_nm1_b',\n",
       " 'reliability_nm1_c',\n",
       " 'reliability_nm2',\n",
       " 'reliability_nm3',\n",
       " 'reliability_ns',\n",
       " 'reliability_sg',\n",
       " 'rf_area_off_lsn',\n",
       " 'rf_area_on_lsn',\n",
       " 'rf_center_off_x_lsn',\n",
       " 'rf_center_off_y_lsn',\n",
       " 'rf_center_on_x_lsn',\n",
       " 'rf_center_on_y_lsn',\n",
       " 'rf_chi2_lsn',\n",
       " 'rf_distance_lsn',\n",
       " 'rf_overlap_index_lsn',\n",
       " 'run_mod_dg',\n",
       " 'run_mod_ns',\n",
       " 'run_mod_sg',\n",
       " 'sfdi_sg',\n",
       " 'signal_correlation_a_large',\n",
       " 'signal_correlation_a_small',\n",
       " 'signal_correlation_b_large',\n",
       " 'signal_correlation_b_small',\n",
       " 'specimen_id',\n",
       " 'speed_tuning_a_large',\n",
       " 'speed_tuning_a_small',\n",
       " 'speed_tuning_b_large',\n",
       " 'speed_tuning_b_small',\n",
       " 'speed_tuning_c_large',\n",
       " 'speed_tuning_c_small',\n",
       " 'static_gratings_large',\n",
       " 'static_gratings_small',\n",
       " 'tfdi_dg',\n",
       " 'time_to_peak_ns',\n",
       " 'time_to_peak_sg',\n",
       " 'tld1_id',\n",
       " 'tld1_name',\n",
       " 'tld2_id',\n",
       " 'tld2_name',\n",
       " 'tlr1_id',\n",
       " 'tlr1_name']"
      ]
     },
     "execution_count": 60,
     "metadata": {},
     "output_type": "execute_result"
    }
   ],
   "source": [
    "sorted(list(df.columns))"
   ]
  },
  {
   "cell_type": "markdown",
   "id": "5521ac7c-d9bd-4645-86ba-f79bd287be37",
   "metadata": {},
   "source": [
    "- \"pref_dir_dg\": preferred direction dynamic gratings [degrees]\n",
    "- \"pref_tf_dg\": preferred temporal frequency dynamic gratings [Hz]\n",
    "- \"pref_ori_sg\": preferred orientation static gratings [degrees]\n",
    "- \"pref_sf_sg\": preferred spatial frequency static gratings [cycles/degree]\n",
    "- \"pref_phase_sg\": preferred phase static gratings\n",
    "\n",
    "More useful columns:\n",
    "- \"failed_experiment_container\": we want this to False"
   ]
  },
  {
   "cell_type": "code",
   "execution_count": 58,
   "id": "f9d0030b-7852-4d4a-b72a-7de8518877b5",
   "metadata": {},
   "outputs": [
    {
     "data": {
      "text/html": [
       "<div>\n",
       "<style scoped>\n",
       "    .dataframe tbody tr th:only-of-type {\n",
       "        vertical-align: middle;\n",
       "    }\n",
       "\n",
       "    .dataframe tbody tr th {\n",
       "        vertical-align: top;\n",
       "    }\n",
       "\n",
       "    .dataframe thead th {\n",
       "        text-align: right;\n",
       "    }\n",
       "</style>\n",
       "<table border=\"1\" class=\"dataframe\">\n",
       "  <thead>\n",
       "    <tr style=\"text-align: right;\">\n",
       "      <th></th>\n",
       "      <th>pref_dir_dg</th>\n",
       "      <th>pref_tf_dg</th>\n",
       "      <th>pref_ori_sg</th>\n",
       "      <th>pref_sf_sg</th>\n",
       "      <th>pref_phase_sg</th>\n",
       "    </tr>\n",
       "  </thead>\n",
       "  <tbody>\n",
       "    <tr>\n",
       "      <th>14421</th>\n",
       "      <td>180.0</td>\n",
       "      <td>1.0</td>\n",
       "      <td>30.0</td>\n",
       "      <td>0.04</td>\n",
       "      <td>0.5</td>\n",
       "    </tr>\n",
       "  </tbody>\n",
       "</table>\n",
       "</div>"
      ],
      "text/plain": [
       "       pref_dir_dg  pref_tf_dg  pref_ori_sg  pref_sf_sg  pref_phase_sg\n",
       "14421        180.0         1.0         30.0        0.04            0.5"
      ]
     },
     "execution_count": 58,
     "metadata": {},
     "output_type": "execute_result"
    }
   ],
   "source": [
    "df[df[\"cell_specimen_id\"]==541511982][[\"pref_dir_dg\", \"pref_tf_dg\", \"pref_ori_sg\", \"pref_sf_sg\", \"pref_phase_sg\"]]"
   ]
  },
  {
   "cell_type": "code",
   "execution_count": 42,
   "id": "77a90454-71c0-4334-89ed-621768f4f15d",
   "metadata": {},
   "outputs": [
    {
     "data": {
      "text/plain": [
       "{'cell_specimen_id': 517397340,\n",
       " 'experiment_container_id': 511498742,\n",
       " 'specimen_id': 502185555,\n",
       " 'area': 'VISp',\n",
       " 'tld1_id': 177837516,\n",
       " 'tld1_name': 'Scnn1a-Tg3-Cre',\n",
       " 'tld2_id': 177837320.0,\n",
       " 'tld2_name': 'Camk2a-tTA',\n",
       " 'tlr1_id': 265943423,\n",
       " 'tlr1_name': 'Ai93(TITL-GCaMP6f)',\n",
       " 'imaging_depth': 350,\n",
       " 'failed_experiment_container': 'f',\n",
       " 'drifting_grating_large': '/external/neuralcoding/prod6/specimen_502185555/ophys_experiment_511534603/thumbnails/517397340/drifting_gratings_large.png',\n",
       " 'drifting_grating_small': '/external/neuralcoding/prod6/specimen_502185555/ophys_experiment_511534603/thumbnails/517397340/drifting_gratings_small.png',\n",
       " 'natural_movie_one_a_large': '/external/neuralcoding/prod6/specimen_502185555/ophys_experiment_511534603/thumbnails/517397340/natural_movie_one_large.png',\n",
       " 'natural_movie_one_a_small': '/external/neuralcoding/prod6/specimen_502185555/ophys_experiment_511534603/thumbnails/517397340/natural_movie_one_small.png',\n",
       " 'natural_movie_three_large': '/external/neuralcoding/prod6/specimen_502185555/ophys_experiment_511534603/thumbnails/517397340/natural_movie_three_large.png',\n",
       " 'natural_movie_three_small': '/external/neuralcoding/prod6/specimen_502185555/ophys_experiment_511534603/thumbnails/517397340/natural_movie_three_small.png',\n",
       " 'speed_tuning_a_large': '/external/neuralcoding/prod6/specimen_502185555/ophys_experiment_511534603/thumbnails/517397340/speed_tuning_large.png',\n",
       " 'speed_tuning_a_small': '/external/neuralcoding/prod6/specimen_502185555/ophys_experiment_511534603/thumbnails/517397340/speed_tuning_small.png',\n",
       " 'osi_dg': 1.24470739685357,\n",
       " 'dsi_dg': 1.46126812763604,\n",
       " 'pref_dir_dg': 0.0,\n",
       " 'pref_tf_dg': 1.0,\n",
       " 'p_dg': 2.6908001899393104e-15,\n",
       " 'all_stim': 'f',\n",
       " 'donor_full_genotype': 'Scnn1a-Tg3-Cre/wt;Camk2a-tTA/wt;Ai93(TITL-GCaMP6f)/Ai93(TITL-GCaMP6f)',\n",
       " 'g_dsi_dg': 0.824858360785306,\n",
       " 'g_osi_dg': 0.901541772292667,\n",
       " 'peak_dff_dg': 4.71170456806819,\n",
       " 'reliability_dg': 0.0402189604382692,\n",
       " 'reliability_nm1_a': 0.0968568025236682,\n",
       " 'reliability_nm3': 0.0263673985514646,\n",
       " 'signal_correlation_a_large': '/external/neuralcoding/prod6/specimen_502185555/ophys_experiment_511534603/thumbnails/517397340/signal_correlation_large.png',\n",
       " 'signal_correlation_a_small': '/external/neuralcoding/prod6/specimen_502185555/ophys_experiment_511534603/thumbnails/517397340/signal_correlation_small.png',\n",
       " 'tfdi_dg': 0.33307433945653}"
      ]
     },
     "execution_count": 42,
     "metadata": {},
     "output_type": "execute_result"
    }
   ],
   "source": [
    "df[df[\"drifting_grating_small\"].notna()].iloc[0].dropna().to_dict()"
   ]
  },
  {
   "cell_type": "code",
   "execution_count": null,
   "id": "aac4aef3-3cb6-42e9-9f1e-b4669a4d5b01",
   "metadata": {},
   "outputs": [],
   "source": []
  },
  {
   "cell_type": "code",
   "execution_count": null,
   "id": "82bfb44e-01c0-42e5-ac98-b7892ea7f583",
   "metadata": {},
   "outputs": [],
   "source": []
  },
  {
   "cell_type": "code",
   "execution_count": null,
   "id": "5f4c7072-7a19-4f22-9f14-3c9440245454",
   "metadata": {},
   "outputs": [],
   "source": []
  },
  {
   "cell_type": "code",
   "execution_count": null,
   "id": "e795100b-935b-4905-b0f4-ff4c294ab0a0",
   "metadata": {},
   "outputs": [],
   "source": []
  }
 ],
 "metadata": {
  "kernelspec": {
   "display_name": "Python 3",
   "language": "python",
   "name": "python3"
  },
  "language_info": {
   "codemirror_mode": {
    "name": "ipython",
    "version": 3
   },
   "file_extension": ".py",
   "mimetype": "text/x-python",
   "name": "python",
   "nbconvert_exporter": "python",
   "pygments_lexer": "ipython3",
   "version": "3.8.15"
  }
 },
 "nbformat": 4,
 "nbformat_minor": 5
}
